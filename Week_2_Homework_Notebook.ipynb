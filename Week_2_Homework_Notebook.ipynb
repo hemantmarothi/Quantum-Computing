{
  "nbformat": 4,
  "nbformat_minor": 0,
  "metadata": {
    "colab": {
      "provenance": [],
      "include_colab_link": true
    },
    "kernelspec": {
      "name": "python3",
      "display_name": "Python 3"
    },
    "language_info": {
      "name": "python"
    }
  },
  "cells": [
    {
      "cell_type": "markdown",
      "metadata": {
        "id": "view-in-github",
        "colab_type": "text"
      },
      "source": [
        "<a href=\"https://colab.research.google.com/github/hemantmarothi/Quantum-Computing/blob/main/Week_2_Homework_Notebook.ipynb\" target=\"_parent\"><img src=\"https://colab.research.google.com/assets/colab-badge.svg\" alt=\"Open In Colab\"/></a>"
      ]
    },
    {
      "cell_type": "markdown",
      "source": [
        "# **Homework 2: Python Basics I**\n",
        "---\n",
        "\n",
        "### **Description**\n",
        "In this homework, you will continue to hone your understanding of python basics including objects, types, arithmetic operators, and variables. **NOTE: You will need to submit answers to several questions throughout the notebook on Canvas.**\n",
        "\n",
        "<br>\n",
        "\n",
        "### **Structure**\n",
        "**Part 1**: [Getting Familiar with Google Colab](#p1)\n",
        "\n",
        "**Part 2**: [Objects and Types](#p2)\n",
        "\n",
        "**Part 3**: [Arithmetic and Variables](#p3)\n",
        "\n",
        "\n",
        "<br>\n",
        "\n",
        "### **Learning Objectives**\n",
        "By the end of this homework, we will:\n",
        "* Recognize the definition/framework of objects, methods, attributes.\n",
        "* Recognize the main data types and how to modify them with basic arithmetic operators (+, -, /, *).\n",
        "* Recognize that variables are a way to store objects.\n",
        "\n",
        "\n",
        "<br>\n",
        "\n",
        "### **Resources**\n",
        "* [Python Basics Cheat Sheet](https://docs.google.com/document/d/1uLao-xKh3tYIiCYyiqf7oas4qTlr5XYKQ0QpzX_Xzag/edit?usp=sharing)"
      ],
      "metadata": {
        "id": "K3JVwUgVElwe"
      }
    },
    {
      "cell_type": "markdown",
      "source": [
        "<a name=\"p1\"></a>\n",
        "\n",
        "---\n",
        "## **Part 1: Reading and Modifying Code**\n",
        "---\n",
        "\n",
        "In this section, you will hone your ability to read and modify code given to you."
      ],
      "metadata": {
        "id": "MdB9l1eDB6mZ"
      }
    },
    {
      "cell_type": "markdown",
      "source": [
        "#### **Problem #1.1**\n",
        "\n",
        "Modify the code to calculate the area of a rectangle whose length is 10 and width is 5."
      ],
      "metadata": {
        "id": "xwi8nagW-1ad"
      }
    },
    {
      "cell_type": "code",
      "source": [
        "length = 10\n",
        "width = 5\n",
        "area = length*width\n",
        "area"
      ],
      "metadata": {
        "id": "ntGXhAFY9Yd-",
        "colab": {
          "base_uri": "https://localhost:8080/"
        },
        "outputId": "005d8c0d-e870-4ac0-8089-d2c2d6e362bc"
      },
      "execution_count": 1,
      "outputs": [
        {
          "output_type": "execute_result",
          "data": {
            "text/plain": [
              "50"
            ]
          },
          "metadata": {},
          "execution_count": 1
        }
      ]
    },
    {
      "cell_type": "markdown",
      "source": [
        "#### **Problem #1.2**\n",
        "\n",
        "Modify the code to calculate the `cost_per_person` if the `total_cost` is 500."
      ],
      "metadata": {
        "id": "zLYs9izPCfMM"
      }
    },
    {
      "cell_type": "code",
      "source": [
        "total_cost = 500\n",
        "number_of_people = 5\n",
        "cost_per_person = total_cost/number_of_people\n",
        "cost_per_person"
      ],
      "metadata": {
        "id": "QfgQPydj9gIl",
        "colab": {
          "base_uri": "https://localhost:8080/"
        },
        "outputId": "cb118a3d-2aa8-4006-88dd-37e0655ebf42"
      },
      "execution_count": 2,
      "outputs": [
        {
          "output_type": "execute_result",
          "data": {
            "text/plain": [
              "100.0"
            ]
          },
          "metadata": {},
          "execution_count": 2
        }
      ]
    },
    {
      "cell_type": "markdown",
      "source": [
        "#### **Problem #1.3**\n",
        "\n",
        "Modify the code shown below to calculate the final exam grade needed when:\n",
        "\n",
        "| Exam         \t| Grade \t| Weight \t|\n",
        "|--------------\t|-------\t|--------\t|\n",
        "| Exam 1:      \t| 75    \t| 0.2    \t|\n",
        "| Exam 2:      \t| 82    \t| 0.2    \t|\n",
        "| Final Exam:  \t| ?     \t| 0.6    \t|\n",
        "| Final Grade: \t| 85    \t|        \t|"
      ],
      "metadata": {
        "id": "9FS3rfX9CrNU"
      }
    },
    {
      "cell_type": "code",
      "source": [
        "exam_1_grade = 75\n",
        "exam_1_weight = 0.2\n",
        "\n",
        "exam_2_grade = 82\n",
        "exam_2_weight = 0.2\n",
        "\n",
        "final_exam_weight = 0.6\n",
        "wanted_final_grade = 85\n",
        "\n",
        "required_grade_on_final = (wanted_final_grade- exam_1_grade*exam_1_weight - exam_2_grade*exam_2_weight)/final_exam_weight\n",
        "required_grade_on_final"
      ],
      "metadata": {
        "colab": {
          "base_uri": "https://localhost:8080/"
        },
        "id": "_waPzkfG9sK4",
        "outputId": "9d60e6c9-7709-4ef8-f464-17c2d1dfd74e"
      },
      "execution_count": 3,
      "outputs": [
        {
          "output_type": "execute_result",
          "data": {
            "text/plain": [
              "89.33333333333333"
            ]
          },
          "metadata": {},
          "execution_count": 3
        }
      ]
    },
    {
      "cell_type": "markdown",
      "source": [
        "<a name=\"p2\"></a>\n",
        "\n",
        "---\n",
        "## **Part 2: Objects and Types**\n",
        "---\n",
        "\n",
        "In this section, you will hone your understanding of the concepts of objects and types."
      ],
      "metadata": {
        "id": "DP9_oKpi6T9g"
      }
    },
    {
      "cell_type": "markdown",
      "source": [
        "#### **Problem #2.1**\n",
        "\n",
        "Which of the following objects are floats?\n",
        "\n",
        "a.\n",
        "```python\n",
        "5.2\n",
        "```\n",
        "\n",
        "b.\n",
        "```python\n",
        "\"this is an object\"\n",
        "```\n",
        "\n",
        "c.\n",
        "```python\n",
        "\"5.2\"\n",
        "```\n",
        "\n",
        "d.\n",
        "```python\n",
        "52\n",
        "```\n",
        "\n",
        "e.\n",
        "```python\n",
        "52 / 10\n",
        "```"
      ],
      "metadata": {
        "id": "wo7SOJPU7AXD"
      }
    },
    {
      "cell_type": "markdown",
      "source": [
        "#### **Problem #2.2**\n",
        "\n",
        "Label the following data types.\n",
        "\n",
        "a.\n",
        "```python\n",
        "2\n",
        "```\n",
        "\n",
        "b.\n",
        "```python\n",
        "8.9\n",
        "```\n",
        "\n",
        "c.\n",
        "```python\n",
        "\"Quantum Computing rocks!\"\n",
        "```\n",
        "\n",
        "d.\n",
        "```python\n",
        "[\"string\"]\n",
        "```\n",
        "\n",
        "e.\n",
        "```python\n",
        "5.0\n",
        "```\n",
        "\n",
        "\n"
      ],
      "metadata": {
        "id": "8E_hjAwnzJIJ"
      }
    },
    {
      "cell_type": "markdown",
      "source": [
        "#### **Problem #2.3**\n",
        "\n",
        "Which of the following are objects?\n",
        "\n",
        "a.\n",
        "```python\n",
        "\"28\"\n",
        "```\n",
        "\n",
        "b.\n",
        "```python\n",
        "28.5\n",
        "```\n",
        "\n",
        "c.\n",
        "```python\n",
        "num_eggs = 2 * 3\n",
        "```\n",
        "\n",
        "d.\n",
        "```python\n",
        "True\n",
        "```\n",
        "\n",
        "e.\n",
        "```python\n",
        "is_cheese = False\n",
        "```"
      ],
      "metadata": {
        "id": "TzwueTwDAT_e"
      }
    },
    {
      "cell_type": "markdown",
      "source": [
        "#### **Problem #2.4**\n",
        "\n",
        "As discussed in lab, objects consist of two parts: attributes (data) and methods (behaviors). Given that the syntax for both is different, which of the following are attributes?\n",
        "\n",
        "a.\n",
        "```python\n",
        "phone.call(\"Bob\")\n",
        "```\n",
        "\n",
        "b.\n",
        "```python\n",
        "phone.time\n",
        "```\n",
        "\n",
        "c.\n",
        "```python\n",
        "phone.change_volume(50)\n",
        "```\n",
        "\n",
        "d.\n",
        "```python\n",
        "students.names_list\n",
        "```\n",
        "\n",
        "e.\n",
        "```python\n",
        "students.sort_by_age()\n",
        "```"
      ],
      "metadata": {
        "id": "tmEby-pV9ctp"
      }
    },
    {
      "cell_type": "markdown",
      "source": [
        "<a name=\"p3\"></a>\n",
        "\n",
        "---\n",
        "## **Part 3: Arithmetic and Variables**\n",
        "---\n",
        "\n",
        "In this section, you will hone your ability to calculate operations with numerical types and store a range of types in variables."
      ],
      "metadata": {
        "id": "T47L6IBhCKsx"
      }
    },
    {
      "cell_type": "markdown",
      "source": [
        "#### **Problem #3.1**\n",
        "\n",
        "Calculate 50 multiplied by 4.5."
      ],
      "metadata": {
        "id": "XQ3zpD9G_rb3"
      }
    },
    {
      "cell_type": "code",
      "source": [
        "x = 50 * 4.5\n",
        "x"
      ],
      "metadata": {
        "id": "czESqJz_AKQP",
        "colab": {
          "base_uri": "https://localhost:8080/"
        },
        "outputId": "12bfa8c8-6826-4e6c-f53a-4aa6f76ae326"
      },
      "execution_count": 5,
      "outputs": [
        {
          "output_type": "execute_result",
          "data": {
            "text/plain": [
              "225.0"
            ]
          },
          "metadata": {},
          "execution_count": 5
        }
      ]
    },
    {
      "cell_type": "markdown",
      "source": [
        "#### **Problem #3.2**\n",
        "\n",
        "Calculate 50 multiplied by 4.5 plus 10."
      ],
      "metadata": {
        "id": "Z-3vJncgC8OU"
      }
    },
    {
      "cell_type": "code",
      "source": [
        "y = x + 10\n",
        "y"
      ],
      "metadata": {
        "id": "YaJTKsdZC8OV",
        "colab": {
          "base_uri": "https://localhost:8080/"
        },
        "outputId": "3282072d-b9ac-42de-8393-28347163c85b"
      },
      "execution_count": 7,
      "outputs": [
        {
          "output_type": "execute_result",
          "data": {
            "text/plain": [
              "235.0"
            ]
          },
          "metadata": {},
          "execution_count": 7
        }
      ]
    },
    {
      "cell_type": "markdown",
      "source": [
        "#### **Problem #3.3**\n",
        "\n",
        "Calculate 4 to the 8th power plus 10."
      ],
      "metadata": {
        "id": "QinoVuPOAdBg"
      }
    },
    {
      "cell_type": "code",
      "source": [
        "z = 4 ** 8 + 10"
      ],
      "metadata": {
        "id": "arINPqrTAh5P"
      },
      "execution_count": 8,
      "outputs": []
    },
    {
      "cell_type": "markdown",
      "source": [
        "#### **Problem #3.4**\n",
        "\n",
        "Create a variable that stores the name of the country you live in. Output that variable."
      ],
      "metadata": {
        "id": "oMCHyhfet4wi"
      }
    },
    {
      "cell_type": "code",
      "source": [
        "country = \"India\"\n",
        "country"
      ],
      "metadata": {
        "id": "x-OTbMmiuMU1",
        "colab": {
          "base_uri": "https://localhost:8080/",
          "height": 36
        },
        "outputId": "f6dad086-f139-4c1a-ceee-e13eda67c1fb"
      },
      "execution_count": 9,
      "outputs": [
        {
          "output_type": "execute_result",
          "data": {
            "text/plain": [
              "'India'"
            ],
            "application/vnd.google.colaboratory.intrinsic+json": {
              "type": "string"
            }
          },
          "metadata": {},
          "execution_count": 9
        }
      ]
    },
    {
      "cell_type": "markdown",
      "source": [
        "#### **Problem #3.5**\n",
        "\n",
        "Create a variable named `height_cm` and set it equal to your height in centimeters. Output `height_cm`.\n",
        "\n",
        "<br>\n",
        "\n",
        "**NOTE**: 1 inch = 2.54 cm."
      ],
      "metadata": {
        "id": "xXoYLnwgutEq"
      }
    },
    {
      "cell_type": "code",
      "source": [
        "height_cm = 176\n",
        "height_cm"
      ],
      "metadata": {
        "id": "GYEksLk4LmLC",
        "colab": {
          "base_uri": "https://localhost:8080/"
        },
        "outputId": "b3e319cc-5198-4d4f-94e9-8bf6db4e90d9"
      },
      "execution_count": 12,
      "outputs": [
        {
          "output_type": "execute_result",
          "data": {
            "text/plain": [
              "176"
            ]
          },
          "metadata": {},
          "execution_count": 12
        }
      ]
    },
    {
      "cell_type": "markdown",
      "source": [
        "#### **Problem #3.6**\n",
        "\n",
        "Create a variable named `height_m` and set it equal to your height in m. Use the `height_cm` variable from the previous problem. Output `height_m`.\n",
        "\n",
        "<br>\n",
        "\n",
        "**NOTE**: 1 m = 100 cm."
      ],
      "metadata": {
        "id": "y-uOGaf0LTqK"
      }
    },
    {
      "cell_type": "code",
      "source": [
        "height_m = height_cm / 100\n",
        "height_m"
      ],
      "metadata": {
        "id": "kORv2WhnMtIJ",
        "colab": {
          "base_uri": "https://localhost:8080/"
        },
        "outputId": "3b9abaf8-946b-47a4-ce86-4ea4f578bed4"
      },
      "execution_count": 13,
      "outputs": [
        {
          "output_type": "execute_result",
          "data": {
            "text/plain": [
              "1.76"
            ]
          },
          "metadata": {},
          "execution_count": 13
        }
      ]
    },
    {
      "cell_type": "markdown",
      "source": [
        "#### **Problem #3.7**\n",
        "\n",
        "Which of the following variables names would not run in python?"
      ],
      "metadata": {
        "id": "FeID_zqavKiq"
      }
    },
    {
      "cell_type": "markdown",
      "source": [
        "a.\n",
        "```python\n",
        "1var = 10\n",
        "```\n",
        "\n",
        "b.\n",
        "```python\n",
        "2var = 20\n",
        "```\n",
        "\n",
        "c.\n",
        "```python\n",
        "3_var = 30\n",
        "```\n",
        "\n",
        "d.\n",
        "```python\n",
        "Var4 = 40\n",
        "```\n",
        "\n",
        "e.\n",
        "```python\n",
        "VAR5 = 50\n",
        "```\n",
        "\n",
        "f.\n",
        "```python\n",
        "var_6 = 60\n",
        "```\n",
        "\n",
        "g.\n",
        "```python\n",
        "month&year = \"July 2022\"\n",
        "```\n",
        "\n",
        "h.\n",
        "```python\n",
        "hello = \"hello\"\n",
        "```\n",
        "\n",
        "i.\n",
        "```python\n",
        "for = \"for\"\n",
        "```"
      ],
      "metadata": {
        "id": "BLgXAY79xwqs"
      }
    },
    {
      "cell_type": "markdown",
      "source": [
        "#### **Problem #3.8**\n",
        "\n",
        "Create a variable `name` and assign it to your name. Output `name`. Then, reassign `name` to a friend's name. Output again."
      ],
      "metadata": {
        "id": "-bnV4zY2yMs8"
      }
    },
    {
      "cell_type": "code",
      "source": [
        "name = \"Hemant\"\n",
        "print(name)"
      ],
      "metadata": {
        "id": "xLdAevEYyREb",
        "colab": {
          "base_uri": "https://localhost:8080/"
        },
        "outputId": "1fb3a07c-1f33-4100-8d6c-3a4e9b973353"
      },
      "execution_count": 15,
      "outputs": [
        {
          "output_type": "stream",
          "name": "stdout",
          "text": [
            "Hemant\n"
          ]
        }
      ]
    },
    {
      "cell_type": "code",
      "source": [
        "name = \"Amit\"\n",
        "print(name)"
      ],
      "metadata": {
        "id": "sZwWBkHhFCc0",
        "colab": {
          "base_uri": "https://localhost:8080/"
        },
        "outputId": "3ad4e329-da36-4cff-b5b9-3d2d932fb317"
      },
      "execution_count": 16,
      "outputs": [
        {
          "output_type": "stream",
          "name": "stdout",
          "text": [
            "Amit\n"
          ]
        }
      ]
    },
    {
      "cell_type": "markdown",
      "source": [
        "# End of notebook\n",
        "---\n",
        "© 2023 The Coding School, All rights reserved"
      ],
      "metadata": {
        "id": "LMrbwMSsoWtN"
      }
    }
  ]
}