{
  "nbformat": 4,
  "nbformat_minor": 0,
  "metadata": {
    "colab": {
      "provenance": [],
      "include_colab_link": true
    },
    "kernelspec": {
      "name": "python3",
      "display_name": "Python 3"
    },
    "language_info": {
      "name": "python"
    }
  },
  "cells": [
    {
      "cell_type": "markdown",
      "metadata": {
        "id": "view-in-github",
        "colab_type": "text"
      },
      "source": [
        "<a href=\"https://colab.research.google.com/github/hemantmarothi/Quantum-Computing/blob/main/Week_2_Lab_Notebook.ipynb\" target=\"_parent\"><img src=\"https://colab.research.google.com/assets/colab-badge.svg\" alt=\"Open In Colab\"/></a>"
      ]
    },
    {
      "cell_type": "markdown",
      "source": [
        "# **Lab 2: Python Basics I**\n",
        "---\n",
        "\n",
        "### **Description**\n",
        "In this lab, we will familiarize ourselves with Google Colab. We will also begin to develop the necessary Python skills and foundation, paving the way for success in our upcoming quantum computing course.\n",
        "\n",
        "<br>\n",
        "\n",
        "### **Structure**\n",
        "**Part 1**: [Getting Familiar with Google Colab](#p1)\n",
        "\n",
        "**Part 2**: [Arithmetic Operators](#p2)\n",
        "\n",
        "**Part 3**: [Variables](#p3)\n",
        "\n",
        "**Part 4**: [Additional Practice [OPTIONAL]](#p4)\n",
        ">\n",
        "> **Part 4.1**: [Arithmetic Operators](#p4.1)\n",
        ">\n",
        "> **Part 4.2**: [Variables](#p4.2)\n",
        "\n",
        "\n",
        "<br>\n",
        "\n",
        "### **Learning Objectives**\n",
        "By the end of this lab, we will:\n",
        "* Recognize the definition/framework of objects and attributes.\n",
        "* Recognize the main data types and how to modify them with basic arithmetic operators (+, -, /, *).\n",
        "* Recognize that variables are a way to store objects.\n",
        "\n",
        "\n",
        "<br>\n",
        "\n",
        "### **Resources**\n",
        "* [Python Basics Cheat Sheet](https://docs.google.com/document/d/1uLao-xKh3tYIiCYyiqf7oas4qTlr5XYKQ0QpzX_Xzag/edit?usp=sharing)"
      ],
      "metadata": {
        "id": "K3JVwUgVElwe"
      }
    },
    {
      "cell_type": "markdown",
      "source": [
        "<a name=\"p1\"></a>\n",
        "\n",
        "---\n",
        "## **Part 1: Getting Familiar with Google Colab**\n",
        "---"
      ],
      "metadata": {
        "id": "vFusVI8O6sd-"
      }
    },
    {
      "cell_type": "markdown",
      "source": [
        "#### **Problem #1.1**\n",
        "\n",
        "**Together**, let's change the title of our notebook. Rename the notebook to \"QXQ Week 1 Lab Notebook\"."
      ],
      "metadata": {
        "id": "4EgRMGgY7J-X"
      }
    },
    {
      "cell_type": "markdown",
      "source": [
        "#### **Problem #1.2**\n",
        "\n",
        "**Together**, let's create a new text cell and type: \"This is a text cell.\""
      ],
      "metadata": {
        "id": "1977NXTR78g_"
      }
    },
    {
      "cell_type": "markdown",
      "source": [
        "#### **Problem #1.3**\n",
        "\n",
        "**Together**, let's create a new code cell and type: \"This is a code cell.\""
      ],
      "metadata": {
        "id": "7EcHRNJt8QaH"
      }
    },
    {
      "cell_type": "markdown",
      "source": [
        "#### **Problem #1.4**\n",
        "\n",
        "**Together**, let's run the code cell below."
      ],
      "metadata": {
        "id": "Lgm13Kns8Vzi"
      }
    },
    {
      "cell_type": "code",
      "source": [
        "\"Hello World!\""
      ],
      "metadata": {
        "id": "se-uUU8bE-Gn"
      },
      "execution_count": null,
      "outputs": []
    },
    {
      "cell_type": "markdown",
      "source": [
        "---\n",
        "\n",
        "<center>\n",
        "\n",
        "#### **Wait for Your Instructor to Continue**\n",
        "\n",
        "---"
      ],
      "metadata": {
        "id": "0EOWYdxhTiki"
      }
    },
    {
      "cell_type": "markdown",
      "source": [
        "<a name=\"p2\"></a>\n",
        "\n",
        "---\n",
        "## **Part 2: Arithmetic Operators**\n",
        "---"
      ],
      "metadata": {
        "id": "H5MIexSZviqM"
      }
    },
    {
      "cell_type": "markdown",
      "source": [
        "#### **Problem #2.1**\n",
        "\n",
        "**Together**, let's add the ints 3 and 2."
      ],
      "metadata": {
        "id": "Nkrwij4gSu0h"
      }
    },
    {
      "cell_type": "code",
      "source": [
        "3 + 2"
      ],
      "metadata": {
        "id": "rwGjkCmrT8cp",
        "colab": {
          "base_uri": "https://localhost:8080/"
        },
        "outputId": "f7af9e35-1b63-4eb0-d756-9507ce88a59e"
      },
      "execution_count": 1,
      "outputs": [
        {
          "output_type": "execute_result",
          "data": {
            "text/plain": [
              "5"
            ]
          },
          "metadata": {},
          "execution_count": 1
        }
      ]
    },
    {
      "cell_type": "markdown",
      "source": [
        "#### **Problem #2.2**\n",
        "\n",
        "**Together**, let's add 7.0 and 2.0."
      ],
      "metadata": {
        "id": "TMg9xuU4bGXO"
      }
    },
    {
      "cell_type": "code",
      "source": [
        "7.0 + 2.0"
      ],
      "metadata": {
        "id": "gxuz6DBtbS4b",
        "colab": {
          "base_uri": "https://localhost:8080/"
        },
        "outputId": "45377435-1162-4b33-8393-d03a83e7452b"
      },
      "execution_count": 2,
      "outputs": [
        {
          "output_type": "execute_result",
          "data": {
            "text/plain": [
              "9.0"
            ]
          },
          "metadata": {},
          "execution_count": 2
        }
      ]
    },
    {
      "cell_type": "markdown",
      "source": [
        "#### **Problem #2.3**\n",
        "\n",
        "**Together**, let's divide 23 by 2."
      ],
      "metadata": {
        "id": "AoNyZMOLbHzG"
      }
    },
    {
      "cell_type": "code",
      "source": [
        "23 / 2"
      ],
      "metadata": {
        "id": "2qLvU5ArbX9e",
        "colab": {
          "base_uri": "https://localhost:8080/"
        },
        "outputId": "a5c62356-b149-44c5-8c58-47581885c625"
      },
      "execution_count": 3,
      "outputs": [
        {
          "output_type": "execute_result",
          "data": {
            "text/plain": [
              "11.5"
            ]
          },
          "metadata": {},
          "execution_count": 3
        }
      ]
    },
    {
      "cell_type": "markdown",
      "source": [
        "#### **Problem #2.4**\n",
        "\n",
        "**Together**, let's multiply 24.0 and 25.4."
      ],
      "metadata": {
        "id": "MAhg9IhNbIW9"
      }
    },
    {
      "cell_type": "code",
      "source": [
        "24.0 * 25.4"
      ],
      "metadata": {
        "id": "vQouy4o_brEN",
        "colab": {
          "base_uri": "https://localhost:8080/"
        },
        "outputId": "4f1bfb76-8833-4993-e550-4b5172c77935"
      },
      "execution_count": 5,
      "outputs": [
        {
          "output_type": "execute_result",
          "data": {
            "text/plain": [
              "609.5999999999999"
            ]
          },
          "metadata": {},
          "execution_count": 5
        }
      ]
    },
    {
      "cell_type": "markdown",
      "source": [
        "---\n",
        "\n",
        "#### **Now it's your turn! Try Problems #2.5 - 2.7 on your own.**\n",
        "\n",
        "---"
      ],
      "metadata": {
        "id": "Ttxn0Y39k4mS"
      }
    },
    {
      "cell_type": "markdown",
      "source": [
        "#### **Problem #2.5**\n",
        "\n",
        "**Independently**, add 13 and 27."
      ],
      "metadata": {
        "id": "bAfEeCA5gwqX"
      }
    },
    {
      "cell_type": "code",
      "source": [
        "13 + 27"
      ],
      "metadata": {
        "id": "nlNB4BF_jsEt",
        "colab": {
          "base_uri": "https://localhost:8080/"
        },
        "outputId": "bf0e23a9-ec8f-4cab-cff4-2d719ceaac7d"
      },
      "execution_count": 6,
      "outputs": [
        {
          "output_type": "execute_result",
          "data": {
            "text/plain": [
              "40"
            ]
          },
          "metadata": {},
          "execution_count": 6
        }
      ]
    },
    {
      "cell_type": "markdown",
      "source": [
        "#### **Problem #2.6**\n",
        "\n",
        "**Independently**, multiply 1000 and 3000.5."
      ],
      "metadata": {
        "id": "d_U6ur7jgxTk"
      }
    },
    {
      "cell_type": "code",
      "source": [
        "1000 * 3000.5"
      ],
      "metadata": {
        "id": "i3mHYwJaj02C",
        "colab": {
          "base_uri": "https://localhost:8080/"
        },
        "outputId": "c07eb188-55f2-468d-ca83-5ab707133e74"
      },
      "execution_count": 7,
      "outputs": [
        {
          "output_type": "execute_result",
          "data": {
            "text/plain": [
              "3000500.0"
            ]
          },
          "metadata": {},
          "execution_count": 7
        }
      ]
    },
    {
      "cell_type": "markdown",
      "source": [
        "#### **Problem #2.7**\n",
        "\n",
        "**Independently**, divide 250 by 50."
      ],
      "metadata": {
        "id": "JbFm4hjKgxfX"
      }
    },
    {
      "cell_type": "code",
      "source": [
        "250 / 50"
      ],
      "metadata": {
        "id": "NCZtaMI1jF4r",
        "colab": {
          "base_uri": "https://localhost:8080/"
        },
        "outputId": "bc96d4e0-99df-487e-adbf-a5f3c50a7d5a"
      },
      "execution_count": 8,
      "outputs": [
        {
          "output_type": "execute_result",
          "data": {
            "text/plain": [
              "5.0"
            ]
          },
          "metadata": {},
          "execution_count": 8
        }
      ]
    },
    {
      "cell_type": "markdown",
      "source": [
        "---\n",
        "\n",
        "<center>\n",
        "\n",
        "#### **Wait for Your Instructor to Continue**\n",
        "\n",
        "---"
      ],
      "metadata": {
        "id": "AzaGwjHOX9Ou"
      }
    },
    {
      "cell_type": "markdown",
      "source": [
        "<a name=\"p3\"></a>\n",
        "\n",
        "---\n",
        "## **Part 3: Variables**\n",
        "---"
      ],
      "metadata": {
        "id": "8ZlKbmO6kmGl"
      }
    },
    {
      "cell_type": "markdown",
      "source": [
        "#### **Problem #3.1**\n",
        "\n",
        "**Together**, let's create a variable called `my_school` and assign a string (anything inside quotes: `\"...\"`) to it with your school's name.\n",
        "\n",
        "<br>\n",
        "\n",
        "**NOTE**: We will output the variable's value by writing the name on a line of its own."
      ],
      "metadata": {
        "id": "6tp4GH_pFiXc"
      }
    },
    {
      "cell_type": "code",
      "source": [
        "my_school = \"The Coding School\"\n",
        "\n",
        "my_school"
      ],
      "metadata": {
        "id": "dIcO-GzF7jnH",
        "colab": {
          "base_uri": "https://localhost:8080/",
          "height": 36
        },
        "outputId": "636ec8da-2258-424a-e20b-5a9fe45a9a83"
      },
      "execution_count": 10,
      "outputs": [
        {
          "output_type": "execute_result",
          "data": {
            "text/plain": [
              "'The Coding School'"
            ],
            "application/vnd.google.colaboratory.intrinsic+json": {
              "type": "string"
            }
          },
          "metadata": {},
          "execution_count": 10
        }
      ]
    },
    {
      "cell_type": "markdown",
      "source": [
        "#### **Problem #3.2**\n",
        "\n",
        "**Together**, let's create and name a variable with your favorite number as an integer. Output its value."
      ],
      "metadata": {
        "id": "GeA492pRF9Et"
      }
    },
    {
      "cell_type": "code",
      "source": [
        "fav_int = 1\n",
        "fav_int"
      ],
      "metadata": {
        "id": "BcaGXsBo7qys",
        "colab": {
          "base_uri": "https://localhost:8080/"
        },
        "outputId": "4738c53c-a9b3-4953-abbb-ec02d8df605c"
      },
      "execution_count": 12,
      "outputs": [
        {
          "output_type": "execute_result",
          "data": {
            "text/plain": [
              "1"
            ]
          },
          "metadata": {},
          "execution_count": 12
        }
      ]
    },
    {
      "cell_type": "markdown",
      "source": [
        "---\n",
        "\n",
        "#### **Now it's your turn! Try Problems #3.3 - 3.4 on your own.**\n",
        "\n",
        "---"
      ],
      "metadata": {
        "id": "jK_9G-b4Thcu"
      }
    },
    {
      "cell_type": "markdown",
      "source": [
        "#### **Problem #3.3**\n",
        "\n",
        "**Independently**, create and name a variable with your favorite number as a float. Output its value."
      ],
      "metadata": {
        "id": "PFzpApaisZj3"
      }
    },
    {
      "cell_type": "code",
      "source": [
        "fav_float = 1.0\n",
        "fav_float"
      ],
      "metadata": {
        "id": "TJ1lbMmBseNz",
        "colab": {
          "base_uri": "https://localhost:8080/"
        },
        "outputId": "95ba8cae-8e9d-4939-ddb4-0e3a70cfad8f"
      },
      "execution_count": 14,
      "outputs": [
        {
          "output_type": "execute_result",
          "data": {
            "text/plain": [
              "1.0"
            ]
          },
          "metadata": {},
          "execution_count": 14
        }
      ]
    },
    {
      "cell_type": "markdown",
      "source": [
        "#### **Problem #3.4**\n",
        "\n",
        "**Independently**, look through the given declarations and determine which ones are incorrect?\n",
        "\n",
        "a. `Var1 = 7`\n",
        "\n",
        "b. `VAR5 = 8`\n",
        "\n",
        "c. `2var = 92`\n",
        "\n",
        "d. `first_last_name = \"james gooding\"`\n",
        "\n",
        "e. `Hello! = 0.283`\n",
        "\n",
        "f. `variable24 = \"my favorite food is\"`\n",
        "\n",
        "g. `str = \"string\"`\n",
        "\n"
      ],
      "metadata": {
        "id": "idKFoy5PGMXj"
      }
    },
    {
      "cell_type": "markdown",
      "source": [
        "**Double Click This Cell To Enter Your Answer(s)**"
      ],
      "metadata": {
        "id": "89W-6XfL8bnJ"
      }
    },
    {
      "cell_type": "markdown",
      "source": [
        "---\n",
        "\n",
        "<center>\n",
        "\n",
        "#### **Wait for Your Instructor to Continue**\n",
        "\n",
        "---"
      ],
      "metadata": {
        "id": "DTTEvh3zX_WK"
      }
    },
    {
      "cell_type": "markdown",
      "source": [
        "<a name=\"p4\"></a>\n",
        "\n",
        "---\n",
        "## **Part 4: Additional Practice [OPTIONAL]**\n",
        "---"
      ],
      "metadata": {
        "id": "x27tcYeFr0ps"
      }
    },
    {
      "cell_type": "markdown",
      "source": [
        "<a name=\"p4.1\"></a>\n",
        "\n",
        "---\n",
        "### **Part 4.1: Arithmetic Operators**\n",
        "---"
      ],
      "metadata": {
        "id": "yhhNVj8tszfa"
      }
    },
    {
      "cell_type": "markdown",
      "source": [
        "#### **Problem #4.1.1**\n",
        "\n",
        "Calculate 5 divided by 2."
      ],
      "metadata": {
        "id": "3UHFE0F-r_AY"
      }
    },
    {
      "cell_type": "code",
      "source": [
        "5 / 2"
      ],
      "metadata": {
        "id": "0gTl9x12r_AZ",
        "colab": {
          "base_uri": "https://localhost:8080/"
        },
        "outputId": "1d948405-14d6-4142-8726-b6e77017e09f"
      },
      "execution_count": 17,
      "outputs": [
        {
          "output_type": "execute_result",
          "data": {
            "text/plain": [
              "2.5"
            ]
          },
          "metadata": {},
          "execution_count": 17
        }
      ]
    },
    {
      "cell_type": "markdown",
      "source": [
        "#### **Problem #4.1.2**\n",
        "\n",
        "Calculate 50 divided by 2."
      ],
      "metadata": {
        "id": "-Op2trMwsNTO"
      }
    },
    {
      "cell_type": "code",
      "source": [
        "50 / 2"
      ],
      "metadata": {
        "id": "r8PUMKhbsNTP",
        "colab": {
          "base_uri": "https://localhost:8080/"
        },
        "outputId": "5894ce5f-8bdd-4203-bbe4-9a2fea573d5d"
      },
      "execution_count": 18,
      "outputs": [
        {
          "output_type": "execute_result",
          "data": {
            "text/plain": [
              "25.0"
            ]
          },
          "metadata": {},
          "execution_count": 18
        }
      ]
    },
    {
      "cell_type": "markdown",
      "source": [
        "#### **Problem #4.1.3**\n",
        "\n",
        "Calculate 28 multiplied by 1995."
      ],
      "metadata": {
        "id": "bgSOjzrtsVPZ"
      }
    },
    {
      "cell_type": "code",
      "source": [
        "28 * 1995"
      ],
      "metadata": {
        "id": "wx4fZWNnsVPa",
        "colab": {
          "base_uri": "https://localhost:8080/"
        },
        "outputId": "3c342c00-114e-4148-9755-e7f42a4e4f96"
      },
      "execution_count": 19,
      "outputs": [
        {
          "output_type": "execute_result",
          "data": {
            "text/plain": [
              "55860"
            ]
          },
          "metadata": {},
          "execution_count": 19
        }
      ]
    },
    {
      "cell_type": "markdown",
      "source": [
        "#### **Problem #4.1.4**\n",
        "\n",
        "Calculate 3 squared."
      ],
      "metadata": {
        "id": "amw5Yd8xsbfR"
      }
    },
    {
      "cell_type": "code",
      "source": [
        "3 ** 2"
      ],
      "metadata": {
        "id": "O1kUtqUisbfT",
        "colab": {
          "base_uri": "https://localhost:8080/"
        },
        "outputId": "c0562188-f54d-4e61-92ba-bb210269cc92"
      },
      "execution_count": 21,
      "outputs": [
        {
          "output_type": "execute_result",
          "data": {
            "text/plain": [
              "9"
            ]
          },
          "metadata": {},
          "execution_count": 21
        }
      ]
    },
    {
      "cell_type": "markdown",
      "source": [
        "#### **Problem #4.1.5**\n",
        "\n",
        "Calculate 2 to the 10th power minus 5."
      ],
      "metadata": {
        "id": "ixi0A-EKslsg"
      }
    },
    {
      "cell_type": "code",
      "source": [
        "2 ** 10 - 5"
      ],
      "metadata": {
        "id": "JgEGihlislsg",
        "colab": {
          "base_uri": "https://localhost:8080/"
        },
        "outputId": "b71a2afc-3abf-41d2-cbcc-c06045f7e216"
      },
      "execution_count": 23,
      "outputs": [
        {
          "output_type": "execute_result",
          "data": {
            "text/plain": [
              "1019"
            ]
          },
          "metadata": {},
          "execution_count": 23
        }
      ]
    },
    {
      "cell_type": "markdown",
      "source": [
        "<a name=\"p4.2\"></a>\n",
        "\n",
        "---\n",
        "### **Part 4.2: Variables**\n",
        "---"
      ],
      "metadata": {
        "id": "4MoSMLBItCdo"
      }
    },
    {
      "cell_type": "markdown",
      "source": [
        "#### **Problem #4.2.1**\n",
        "\n",
        "Create a variable named `favorite_animal` and assign a string to it of your favorite animal. Output its value."
      ],
      "metadata": {
        "id": "DNQ0uGTgtCd0"
      }
    },
    {
      "cell_type": "code",
      "source": [
        "favourite_animal = \"Elephant\"\n",
        "favourite_animal"
      ],
      "metadata": {
        "id": "RGutT2VXtCd0",
        "colab": {
          "base_uri": "https://localhost:8080/",
          "height": 36
        },
        "outputId": "3a3063ab-85ba-4888-8910-cf0fb9c68d70"
      },
      "execution_count": 24,
      "outputs": [
        {
          "output_type": "execute_result",
          "data": {
            "text/plain": [
              "'Elephant'"
            ],
            "application/vnd.google.colaboratory.intrinsic+json": {
              "type": "string"
            }
          },
          "metadata": {},
          "execution_count": 24
        }
      ]
    },
    {
      "cell_type": "markdown",
      "source": [
        "#### **Problem #4.2.2**\n",
        "\n",
        "Create a variable called `problem_number` and assign the float `4.22` to it. Output its value."
      ],
      "metadata": {
        "id": "qEeBTTwhtCd2"
      }
    },
    {
      "cell_type": "code",
      "source": [
        "problem_number = 4.22\n",
        "problem_number"
      ],
      "metadata": {
        "id": "GzcVlThPtCd2",
        "colab": {
          "base_uri": "https://localhost:8080/"
        },
        "outputId": "5ad8df10-4d7e-48f2-a91d-d4ad168e2b56"
      },
      "execution_count": 25,
      "outputs": [
        {
          "output_type": "execute_result",
          "data": {
            "text/plain": [
              "4.22"
            ]
          },
          "metadata": {},
          "execution_count": 25
        }
      ]
    },
    {
      "cell_type": "markdown",
      "source": [
        "#### **Problem #4.2.3**\n",
        "\n",
        "Create a variable called `next_problem_number` and assign the result of adding `problem_number` and 0.01. Output its value."
      ],
      "metadata": {
        "id": "foTpdnTStCd1"
      }
    },
    {
      "cell_type": "code",
      "source": [
        "next_problem_number = problem_number + 0.01\n",
        "next_problem_number"
      ],
      "metadata": {
        "id": "r3pRvWxwtCd2",
        "colab": {
          "base_uri": "https://localhost:8080/"
        },
        "outputId": "2e714393-74ca-4297-f8f7-f4d39115f442"
      },
      "execution_count": 28,
      "outputs": [
        {
          "output_type": "execute_result",
          "data": {
            "text/plain": [
              "4.2299999999999995"
            ]
          },
          "metadata": {},
          "execution_count": 28
        }
      ]
    },
    {
      "cell_type": "markdown",
      "source": [
        "#### **Problem #4.2.4**\n",
        "\n",
        "Create a variable named `my_age` and assign an int with your age to it. Output its value."
      ],
      "metadata": {
        "id": "j9LT67KptCd1"
      }
    },
    {
      "cell_type": "code",
      "source": [
        "my_age = 21\n",
        "my_age"
      ],
      "metadata": {
        "id": "9M1RGVVZtCd1",
        "colab": {
          "base_uri": "https://localhost:8080/"
        },
        "outputId": "c5e12f40-9c48-4738-8a59-dd858e3ba095"
      },
      "execution_count": 29,
      "outputs": [
        {
          "output_type": "execute_result",
          "data": {
            "text/plain": [
              "21"
            ]
          },
          "metadata": {},
          "execution_count": 29
        }
      ]
    },
    {
      "cell_type": "markdown",
      "source": [
        "#### **Problem #4.2.5**\n",
        "\n",
        "Create a variable named `my_age_in_months` that is equal to `my_age` multiplied by 12. Output its value."
      ],
      "metadata": {
        "id": "219fzMgitCd1"
      }
    },
    {
      "cell_type": "code",
      "source": [
        "my_age_in_months = my_age * 12\n",
        "my_age_in_months"
      ],
      "metadata": {
        "id": "Tf5uJpXftCd1",
        "colab": {
          "base_uri": "https://localhost:8080/"
        },
        "outputId": "9abd1735-efb1-467d-9cfb-7761c917f174"
      },
      "execution_count": 30,
      "outputs": [
        {
          "output_type": "execute_result",
          "data": {
            "text/plain": [
              "252"
            ]
          },
          "metadata": {},
          "execution_count": 30
        }
      ]
    },
    {
      "cell_type": "markdown",
      "source": [
        "# End of notebook\n",
        "---\n",
        "© 2023 The Coding School, All rights reserved"
      ],
      "metadata": {
        "id": "LMrbwMSsoWtN"
      }
    }
  ]
}