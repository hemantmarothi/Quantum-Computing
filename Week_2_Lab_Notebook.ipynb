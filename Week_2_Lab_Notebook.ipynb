{
  "cells": [
    {
      "cell_type": "markdown",
      "metadata": {
        "colab_type": "text",
        "id": "view-in-github"
      },
      "source": [
        "<a href=\"https://colab.research.google.com/github/hemantmarothi/Quantum-Computing/blob/main/Week_2_Lab_Notebook.ipynb\" target=\"_parent\"><img src=\"https://colab.research.google.com/assets/colab-badge.svg\" alt=\"Open In Colab\"/></a>"
      ]
    },
    {
      "cell_type": "markdown",
      "metadata": {
        "id": "K3JVwUgVElwe"
      },
      "source": [
        "# **Lab 2: Python Basics I**\n",
        "---\n",
        "\n",
        "### **Description**\n",
        "In this lab, we will familiarize ourselves with Google Colab. We will also begin to develop the necessary Python skills and foundation, paving the way for success in our upcoming quantum computing course.\n",
        "\n",
        "<br>\n",
        "\n",
        "### **Structure**\n",
        "**Part 1**: [Getting Familiar with Google Colab](#p1)\n",
        "\n",
        "**Part 2**: [Arithmetic Operators](#p2)\n",
        "\n",
        "**Part 3**: [Variables](#p3)\n",
        "\n",
        "**Part 4**: [Additional Practice [OPTIONAL]](#p4)\n",
        ">\n",
        "> **Part 4.1**: [Arithmetic Operators](#p4.1)\n",
        ">\n",
        "> **Part 4.2**: [Variables](#p4.2)\n",
        "\n",
        "\n",
        "<br>\n",
        "\n",
        "### **Learning Objectives**\n",
        "By the end of this lab, we will:\n",
        "* Recognize the definition/framework of objects and attributes.\n",
        "* Recognize the main data types and how to modify them with basic arithmetic operators (+, -, /, *).\n",
        "* Recognize that variables are a way to store objects.\n",
        "\n",
        "\n",
        "<br>\n",
        "\n",
        "### **Resources**\n",
        "* [Python Basics Cheat Sheet](https://docs.google.com/document/d/1uLao-xKh3tYIiCYyiqf7oas4qTlr5XYKQ0QpzX_Xzag/edit?usp=sharing)"
      ]
    },
    {
      "cell_type": "markdown",
      "metadata": {
        "id": "vFusVI8O6sd-"
      },
      "source": [
        "<a name=\"p1\"></a>\n",
        "\n",
        "---\n",
        "## **Part 1: Getting Familiar with Google Colab**\n",
        "---"
      ]
    },
    {
      "cell_type": "markdown",
      "metadata": {
        "id": "4EgRMGgY7J-X"
      },
      "source": [
        "#### **Problem #1.1**\n",
        "\n",
        "**Together**, let's change the title of our notebook. Rename the notebook to \"QXQ Week 1 Lab Notebook\"."
      ]
    },
    {
      "cell_type": "markdown",
      "metadata": {
        "id": "1977NXTR78g_"
      },
      "source": [
        "#### **Problem #1.2**\n",
        "\n",
        "**Together**, let's create a new text cell and type: \"This is a text cell.\""
      ]
    },
    {
      "cell_type": "markdown",
      "metadata": {
        "id": "7EcHRNJt8QaH"
      },
      "source": [
        "#### **Problem #1.3**\n",
        "\n",
        "**Together**, let's create a new code cell and type: \"This is a code cell.\""
      ]
    },
    {
      "cell_type": "markdown",
      "metadata": {
        "id": "Lgm13Kns8Vzi"
      },
      "source": [
        "#### **Problem #1.4**\n",
        "\n",
        "**Together**, let's run the code cell below."
      ]
    },
    {
      "cell_type": "code",
      "execution_count": null,
      "metadata": {
        "id": "se-uUU8bE-Gn"
      },
      "outputs": [],
      "source": []
    },
    {
      "cell_type": "markdown",
      "metadata": {
        "id": "0EOWYdxhTiki"
      },
      "source": [
        "---\n",
        "\n",
        "<center>\n",
        "\n",
        "#### **Wait for Your Instructor to Continue**\n",
        "\n",
        "---"
      ]
    },
    {
      "cell_type": "markdown",
      "metadata": {
        "id": "H5MIexSZviqM"
      },
      "source": [
        "<a name=\"p2\"></a>\n",
        "\n",
        "---\n",
        "## **Part 2: Arithmetic Operators**\n",
        "---"
      ]
    },
    {
      "cell_type": "markdown",
      "metadata": {
        "id": "Nkrwij4gSu0h"
      },
      "source": [
        "#### **Problem #2.1**\n",
        "\n",
        "**Together**, let's add the ints 3 and 2."
      ]
    },
    {
      "cell_type": "code",
      "execution_count": 1,
      "metadata": {
        "colab": {
          "base_uri": "https://localhost:8080/"
        },
        "id": "rwGjkCmrT8cp",
        "outputId": "f7af9e35-1b63-4eb0-d756-9507ce88a59e"
      },
      "outputs": [
        {
          "data": {
            "text/plain": [
              "5"
            ]
          },
          "execution_count": 1,
          "metadata": {},
          "output_type": "execute_result"
        }
      ],
      "source": [
        "3 + 2"
      ]
    },
    {
      "cell_type": "markdown",
      "metadata": {
        "id": "TMg9xuU4bGXO"
      },
      "source": [
        "#### **Problem #2.2**\n",
        "\n",
        "**Together**, let's add 7.0 and 2.0."
      ]
    },
    {
      "cell_type": "code",
      "execution_count": 2,
      "metadata": {
        "colab": {
          "base_uri": "https://localhost:8080/"
        },
        "id": "gxuz6DBtbS4b",
        "outputId": "45377435-1162-4b33-8393-d03a83e7452b"
      },
      "outputs": [
        {
          "data": {
            "text/plain": [
              "9.0"
            ]
          },
          "execution_count": 2,
          "metadata": {},
          "output_type": "execute_result"
        }
      ],
      "source": [
        "7.0 + 2.0"
      ]
    },
    {
      "cell_type": "markdown",
      "metadata": {
        "id": "AoNyZMOLbHzG"
      },
      "source": [
        "#### **Problem #2.3**\n",
        "\n",
        "**Together**, let's divide 23 by 2."
      ]
    },
    {
      "cell_type": "code",
      "execution_count": 3,
      "metadata": {
        "colab": {
          "base_uri": "https://localhost:8080/"
        },
        "id": "2qLvU5ArbX9e",
        "outputId": "a5c62356-b149-44c5-8c58-47581885c625"
      },
      "outputs": [
        {
          "data": {
            "text/plain": [
              "11.5"
            ]
          },
          "execution_count": 3,
          "metadata": {},
          "output_type": "execute_result"
        }
      ],
      "source": [
        "23 / 2"
      ]
    },
    {
      "cell_type": "markdown",
      "metadata": {
        "id": "MAhg9IhNbIW9"
      },
      "source": [
        "#### **Problem #2.4**\n",
        "\n",
        "**Together**, let's multiply 24.0 and 25.4."
      ]
    },
    {
      "cell_type": "code",
      "execution_count": 5,
      "metadata": {
        "colab": {
          "base_uri": "https://localhost:8080/"
        },
        "id": "vQouy4o_brEN",
        "outputId": "4f1bfb76-8833-4993-e550-4b5172c77935"
      },
      "outputs": [
        {
          "data": {
            "text/plain": [
              "609.5999999999999"
            ]
          },
          "execution_count": 5,
          "metadata": {},
          "output_type": "execute_result"
        }
      ],
      "source": [
        "24.0 * 25.4"
      ]
    },
    {
      "cell_type": "markdown",
      "metadata": {
        "id": "Ttxn0Y39k4mS"
      },
      "source": [
        "---\n",
        "\n",
        "#### **Now it's your turn! Try Problems #2.5 - 2.7 on your own.**\n",
        "\n",
        "---"
      ]
    },
    {
      "cell_type": "markdown",
      "metadata": {
        "id": "bAfEeCA5gwqX"
      },
      "source": [
        "#### **Problem #2.5**\n",
        "\n",
        "**Independently**, add 13 and 27."
      ]
    },
    {
      "cell_type": "code",
      "execution_count": 6,
      "metadata": {
        "colab": {
          "base_uri": "https://localhost:8080/"
        },
        "id": "nlNB4BF_jsEt",
        "outputId": "bf0e23a9-ec8f-4cab-cff4-2d719ceaac7d"
      },
      "outputs": [
        {
          "data": {
            "text/plain": [
              "40"
            ]
          },
          "execution_count": 6,
          "metadata": {},
          "output_type": "execute_result"
        }
      ],
      "source": [
        "13 + 27"
      ]
    },
    {
      "cell_type": "markdown",
      "metadata": {
        "id": "d_U6ur7jgxTk"
      },
      "source": [
        "#### **Problem #2.6**\n",
        "\n",
        "**Independently**, multiply 1000 and 3000.5."
      ]
    },
    {
      "cell_type": "code",
      "execution_count": 7,
      "metadata": {
        "colab": {
          "base_uri": "https://localhost:8080/"
        },
        "id": "i3mHYwJaj02C",
        "outputId": "c07eb188-55f2-468d-ca83-5ab707133e74"
      },
      "outputs": [
        {
          "data": {
            "text/plain": [
              "3000500.0"
            ]
          },
          "execution_count": 7,
          "metadata": {},
          "output_type": "execute_result"
        }
      ],
      "source": [
        "1000 * 3000.5"
      ]
    },
    {
      "cell_type": "markdown",
      "metadata": {
        "id": "JbFm4hjKgxfX"
      },
      "source": [
        "#### **Problem #2.7**\n",
        "\n",
        "**Independently**, divide 250 by 50."
      ]
    },
    {
      "cell_type": "code",
      "execution_count": 8,
      "metadata": {
        "colab": {
          "base_uri": "https://localhost:8080/"
        },
        "id": "NCZtaMI1jF4r",
        "outputId": "bc96d4e0-99df-487e-adbf-a5f3c50a7d5a"
      },
      "outputs": [
        {
          "data": {
            "text/plain": [
              "5.0"
            ]
          },
          "execution_count": 8,
          "metadata": {},
          "output_type": "execute_result"
        }
      ],
      "source": [
        "250 / 50"
      ]
    },
    {
      "cell_type": "markdown",
      "metadata": {
        "id": "AzaGwjHOX9Ou"
      },
      "source": [
        "---\n",
        "\n",
        "<center>\n",
        "\n",
        "#### **Wait for Your Instructor to Continue**\n",
        "\n",
        "---"
      ]
    },
    {
      "cell_type": "markdown",
      "metadata": {
        "id": "8ZlKbmO6kmGl"
      },
      "source": [
        "<a name=\"p3\"></a>\n",
        "\n",
        "---\n",
        "## **Part 3: Variables**\n",
        "---"
      ]
    },
    {
      "cell_type": "markdown",
      "metadata": {
        "id": "6tp4GH_pFiXc"
      },
      "source": [
        "#### **Problem #3.1**\n",
        "\n",
        "**Together**, let's create a variable called `my_school` and assign a string (anything inside quotes: `\"...\"`) to it with your school's name.\n",
        "\n",
        "<br>\n",
        "\n",
        "**NOTE**: We will output the variable's value by writing the name on a line of its own."
      ]
    },
    {
      "cell_type": "code",
      "execution_count": 10,
      "metadata": {
        "colab": {
          "base_uri": "https://localhost:8080/",
          "height": 36
        },
        "id": "dIcO-GzF7jnH",
        "outputId": "636ec8da-2258-424a-e20b-5a9fe45a9a83"
      },
      "outputs": [
        {
          "data": {
            "application/vnd.google.colaboratory.intrinsic+json": {
              "type": "string"
            },
            "text/plain": [
              "'The Coding School'"
            ]
          },
          "execution_count": 10,
          "metadata": {},
          "output_type": "execute_result"
        }
      ],
      "source": [
        "my_school = \"The Coding School\"\n",
        "\n",
        "my_school"
      ]
    },
    {
      "cell_type": "markdown",
      "metadata": {
        "id": "GeA492pRF9Et"
      },
      "source": [
        "#### **Problem #3.2**\n",
        "\n",
        "**Together**, let's create and name a variable with your favorite number as an integer. Output its value."
      ]
    },
    {
      "cell_type": "code",
      "execution_count": 12,
      "metadata": {
        "colab": {
          "base_uri": "https://localhost:8080/"
        },
        "id": "BcaGXsBo7qys",
        "outputId": "4738c53c-a9b3-4953-abbb-ec02d8df605c"
      },
      "outputs": [
        {
          "data": {
            "text/plain": [
              "1"
            ]
          },
          "execution_count": 12,
          "metadata": {},
          "output_type": "execute_result"
        }
      ],
      "source": [
        "fav_int = 1\n",
        "fav_int"
      ]
    },
    {
      "cell_type": "markdown",
      "metadata": {
        "id": "jK_9G-b4Thcu"
      },
      "source": [
        "---\n",
        "\n",
        "#### **Now it's your turn! Try Problems #3.3 - 3.4 on your own.**\n",
        "\n",
        "---"
      ]
    },
    {
      "cell_type": "markdown",
      "metadata": {
        "id": "PFzpApaisZj3"
      },
      "source": [
        "#### **Problem #3.3**\n",
        "\n",
        "**Independently**, create and name a variable with your favorite number as a float. Output its value."
      ]
    },
    {
      "cell_type": "code",
      "execution_count": 14,
      "metadata": {
        "colab": {
          "base_uri": "https://localhost:8080/"
        },
        "id": "TJ1lbMmBseNz",
        "outputId": "95ba8cae-8e9d-4939-ddb4-0e3a70cfad8f"
      },
      "outputs": [
        {
          "data": {
            "text/plain": [
              "1.0"
            ]
          },
          "execution_count": 14,
          "metadata": {},
          "output_type": "execute_result"
        }
      ],
      "source": [
        "fav_float = 1.0\n",
        "fav_float"
      ]
    },
    {
      "cell_type": "markdown",
      "metadata": {
        "id": "idKFoy5PGMXj"
      },
      "source": [
        "#### **Problem #3.4**\n",
        "\n",
        "**Independently**, look through the given declarations and determine which ones are incorrect?\n",
        "\n",
        "a. `Var1 = 7`\n",
        "\n",
        "b. `VAR5 = 8`\n",
        "\n",
        "c. `2var = 92`\n",
        "\n",
        "d. `first_last_name = \"james gooding\"`\n",
        "\n",
        "e. `Hello! = 0.283`\n",
        "\n",
        "f. `variable24 = \"my favorite food is\"`\n",
        "\n",
        "g. `str = \"string\"`\n",
        "\n"
      ]
    },
    {
      "cell_type": "markdown",
      "metadata": {
        "id": "89W-6XfL8bnJ"
      },
      "source": [
        "**Double Click This Cell To Enter Your Answer(s)**"
      ]
    },
    {
      "cell_type": "markdown",
      "metadata": {
        "id": "DTTEvh3zX_WK"
      },
      "source": [
        "---\n",
        "\n",
        "<center>\n",
        "\n",
        "#### **Wait for Your Instructor to Continue**\n",
        "\n",
        "---"
      ]
    },
    {
      "cell_type": "markdown",
      "metadata": {
        "id": "x27tcYeFr0ps"
      },
      "source": [
        "<a name=\"p4\"></a>\n",
        "\n",
        "---\n",
        "## **Part 4: Additional Practice [OPTIONAL]**\n",
        "---"
      ]
    },
    {
      "cell_type": "markdown",
      "metadata": {
        "id": "yhhNVj8tszfa"
      },
      "source": [
        "<a name=\"p4.1\"></a>\n",
        "\n",
        "---\n",
        "### **Part 4.1: Arithmetic Operators**\n",
        "---"
      ]
    },
    {
      "cell_type": "markdown",
      "metadata": {
        "id": "3UHFE0F-r_AY"
      },
      "source": [
        "#### **Problem #4.1.1**\n",
        "\n",
        "Calculate 5 divided by 2."
      ]
    },
    {
      "cell_type": "code",
      "execution_count": 17,
      "metadata": {
        "colab": {
          "base_uri": "https://localhost:8080/"
        },
        "id": "0gTl9x12r_AZ",
        "outputId": "1d948405-14d6-4142-8726-b6e77017e09f"
      },
      "outputs": [
        {
          "data": {
            "text/plain": [
              "2.5"
            ]
          },
          "execution_count": 17,
          "metadata": {},
          "output_type": "execute_result"
        }
      ],
      "source": [
        "5 / 2"
      ]
    },
    {
      "cell_type": "markdown",
      "metadata": {
        "id": "-Op2trMwsNTO"
      },
      "source": [
        "#### **Problem #4.1.2**\n",
        "\n",
        "Calculate 50 divided by 2."
      ]
    },
    {
      "cell_type": "code",
      "execution_count": 18,
      "metadata": {
        "colab": {
          "base_uri": "https://localhost:8080/"
        },
        "id": "r8PUMKhbsNTP",
        "outputId": "5894ce5f-8bdd-4203-bbe4-9a2fea573d5d"
      },
      "outputs": [
        {
          "data": {
            "text/plain": [
              "25.0"
            ]
          },
          "execution_count": 18,
          "metadata": {},
          "output_type": "execute_result"
        }
      ],
      "source": [
        "50 / 2"
      ]
    },
    {
      "cell_type": "markdown",
      "metadata": {
        "id": "bgSOjzrtsVPZ"
      },
      "source": [
        "#### **Problem #4.1.3**\n",
        "\n",
        "Calculate 28 multiplied by 1995."
      ]
    },
    {
      "cell_type": "code",
      "execution_count": 19,
      "metadata": {
        "colab": {
          "base_uri": "https://localhost:8080/"
        },
        "id": "wx4fZWNnsVPa",
        "outputId": "3c342c00-114e-4148-9755-e7f42a4e4f96"
      },
      "outputs": [
        {
          "data": {
            "text/plain": [
              "55860"
            ]
          },
          "execution_count": 19,
          "metadata": {},
          "output_type": "execute_result"
        }
      ],
      "source": [
        "28 * 1995"
      ]
    },
    {
      "cell_type": "markdown",
      "metadata": {
        "id": "amw5Yd8xsbfR"
      },
      "source": [
        "#### **Problem #4.1.4**\n",
        "\n",
        "Calculate 3 squared."
      ]
    },
    {
      "cell_type": "code",
      "execution_count": 21,
      "metadata": {
        "colab": {
          "base_uri": "https://localhost:8080/"
        },
        "id": "O1kUtqUisbfT",
        "outputId": "c0562188-f54d-4e61-92ba-bb210269cc92"
      },
      "outputs": [
        {
          "data": {
            "text/plain": [
              "9"
            ]
          },
          "execution_count": 21,
          "metadata": {},
          "output_type": "execute_result"
        }
      ],
      "source": [
        "3 ** 2"
      ]
    },
    {
      "cell_type": "markdown",
      "metadata": {
        "id": "ixi0A-EKslsg"
      },
      "source": [
        "#### **Problem #4.1.5**\n",
        "\n",
        "Calculate 2 to the 10th power minus 5."
      ]
    },
    {
      "cell_type": "code",
      "execution_count": 23,
      "metadata": {
        "colab": {
          "base_uri": "https://localhost:8080/"
        },
        "id": "JgEGihlislsg",
        "outputId": "b71a2afc-3abf-41d2-cbcc-c06045f7e216"
      },
      "outputs": [
        {
          "data": {
            "text/plain": [
              "1019"
            ]
          },
          "execution_count": 23,
          "metadata": {},
          "output_type": "execute_result"
        }
      ],
      "source": [
        "2 ** 10 - 5"
      ]
    },
    {
      "cell_type": "markdown",
      "metadata": {
        "id": "4MoSMLBItCdo"
      },
      "source": [
        "<a name=\"p4.2\"></a>\n",
        "\n",
        "---\n",
        "### **Part 4.2: Variables**\n",
        "---"
      ]
    },
    {
      "cell_type": "markdown",
      "metadata": {
        "id": "DNQ0uGTgtCd0"
      },
      "source": [
        "#### **Problem #4.2.1**\n",
        "\n",
        "Create a variable named `favorite_animal` and assign a string to it of your favorite animal. Output its value."
      ]
    },
    {
      "cell_type": "code",
      "execution_count": 24,
      "metadata": {
        "colab": {
          "base_uri": "https://localhost:8080/",
          "height": 36
        },
        "id": "RGutT2VXtCd0",
        "outputId": "3a3063ab-85ba-4888-8910-cf0fb9c68d70"
      },
      "outputs": [
        {
          "data": {
            "application/vnd.google.colaboratory.intrinsic+json": {
              "type": "string"
            },
            "text/plain": [
              "'Elephant'"
            ]
          },
          "execution_count": 24,
          "metadata": {},
          "output_type": "execute_result"
        }
      ],
      "source": [
        "favourite_animal = \"Elephant\"\n",
        "favourite_animal"
      ]
    },
    {
      "cell_type": "markdown",
      "metadata": {
        "id": "qEeBTTwhtCd2"
      },
      "source": [
        "#### **Problem #4.2.2**\n",
        "\n",
        "Create a variable called `problem_number` and assign the float `4.22` to it. Output its value."
      ]
    },
    {
      "cell_type": "code",
      "execution_count": 25,
      "metadata": {
        "colab": {
          "base_uri": "https://localhost:8080/"
        },
        "id": "GzcVlThPtCd2",
        "outputId": "5ad8df10-4d7e-48f2-a91d-d4ad168e2b56"
      },
      "outputs": [
        {
          "data": {
            "text/plain": [
              "4.22"
            ]
          },
          "execution_count": 25,
          "metadata": {},
          "output_type": "execute_result"
        }
      ],
      "source": [
        "problem_number = 4.22\n",
        "problem_number"
      ]
    },
    {
      "cell_type": "markdown",
      "metadata": {
        "id": "foTpdnTStCd1"
      },
      "source": [
        "#### **Problem #4.2.3**\n",
        "\n",
        "Create a variable called `next_problem_number` and assign the result of adding `problem_number` and 0.01. Output its value."
      ]
    },
    {
      "cell_type": "code",
      "execution_count": 28,
      "metadata": {
        "colab": {
          "base_uri": "https://localhost:8080/"
        },
        "id": "r3pRvWxwtCd2",
        "outputId": "2e714393-74ca-4297-f8f7-f4d39115f442"
      },
      "outputs": [
        {
          "data": {
            "text/plain": [
              "4.2299999999999995"
            ]
          },
          "execution_count": 28,
          "metadata": {},
          "output_type": "execute_result"
        }
      ],
      "source": [
        "next_problem_number = problem_number + 0.01\n",
        "next_problem_number"
      ]
    },
    {
      "cell_type": "markdown",
      "metadata": {
        "id": "j9LT67KptCd1"
      },
      "source": [
        "#### **Problem #4.2.4**\n",
        "\n",
        "Create a variable named `my_age` and assign an int with your age to it. Output its value."
      ]
    },
    {
      "cell_type": "code",
      "execution_count": 29,
      "metadata": {
        "colab": {
          "base_uri": "https://localhost:8080/"
        },
        "id": "9M1RGVVZtCd1",
        "outputId": "c5e12f40-9c48-4738-8a59-dd858e3ba095"
      },
      "outputs": [
        {
          "data": {
            "text/plain": [
              "21"
            ]
          },
          "execution_count": 29,
          "metadata": {},
          "output_type": "execute_result"
        }
      ],
      "source": [
        "my_age = 21\n",
        "my_age"
      ]
    },
    {
      "cell_type": "markdown",
      "metadata": {
        "id": "219fzMgitCd1"
      },
      "source": [
        "#### **Problem #4.2.5**\n",
        "\n",
        "Create a variable named `my_age_in_months` that is equal to `my_age` multiplied by 12. Output its value."
      ]
    },
    {
      "cell_type": "code",
      "execution_count": 30,
      "metadata": {
        "colab": {
          "base_uri": "https://localhost:8080/"
        },
        "id": "Tf5uJpXftCd1",
        "outputId": "9abd1735-efb1-467d-9cfb-7761c917f174"
      },
      "outputs": [
        {
          "data": {
            "text/plain": [
              "252"
            ]
          },
          "execution_count": 30,
          "metadata": {},
          "output_type": "execute_result"
        }
      ],
      "source": [
        "my_age_in_months = my_age * 12\n",
        "my_age_in_months"
      ]
    },
    {
      "cell_type": "markdown",
      "metadata": {
        "id": "LMrbwMSsoWtN"
      },
      "source": [
        "# End of notebook\n",
        "---\n",
        "© 2023 The Coding School, All rights reserved"
      ]
    }
  ],
  "metadata": {
    "colab": {
      "include_colab_link": true,
      "provenance": []
    },
    "kernelspec": {
      "display_name": "Python 3",
      "name": "python3"
    },
    "language_info": {
      "name": "python",
      "version": "3.11.5"
    }
  },
  "nbformat": 4,
  "nbformat_minor": 0
}
