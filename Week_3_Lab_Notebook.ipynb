{
  "cells": [
    {
      "cell_type": "markdown",
      "metadata": {
        "colab_type": "text",
        "id": "view-in-github"
      },
      "source": [
        "<a href=\"https://colab.research.google.com/github/hemantmarothi/Quantum-Computing/blob/main/Week_3_Lab_Notebook.ipynb\" target=\"_parent\"><img src=\"https://colab.research.google.com/assets/colab-badge.svg\" alt=\"Open In Colab\"/></a>"
      ]
    },
    {
      "cell_type": "markdown",
      "id": "mbZXQ3rA3NwL",
      "metadata": {
        "id": "mbZXQ3rA3NwL"
      },
      "source": [
        "# **Lab 3: Using Objects and Good Programming Practices**\n",
        "---\n",
        "\n",
        "### **Description**\n",
        "In today's lab, you will learn how to work with Attributes and Methods in Python. You will also learn how to interpret and correct coding errors, and how to search for and navigate documentation.\n",
        "\n",
        "<br>\n",
        "\n",
        "### **Lab Structure**\n",
        "**Part 1**: [Review](#p1)\n",
        "\n",
        "**Part 2**: [Attributes and Methods](#p2)\n",
        "\n",
        "**Part 3**: [Debugging](#p3)\n",
        "\n",
        "**Part 4**: [Additional Practice [OPTIONAL]](#p4)\n",
        ">\n",
        "> **Part 4.1**: [The Fundamentals](#p4.1)\n",
        ">\n",
        "> **Part 4.2**: [Coding Challenges](#p4.2)\n",
        "\n",
        "**Part 5**: [The `print` Function [OPTIONAL]](#p5)\n",
        "\n",
        "<br>\n",
        "\n",
        "\n",
        "### **Learning Objectives**\n",
        "By the end of this lab, we will:\n",
        "* Understand how to interact with objects using methods and attributes.\n",
        "* Improve your debugging skills by correcting common coding errors.\n",
        "* Understand how to search for documentation in various libraries.\n",
        "\n",
        "<br>\n",
        "\n",
        "###**Resources**\n",
        "* [Python Basics Cheat Sheet](https://docs.google.com/document/d/1uLao-xKh3tYIiCYyiqf7oas4qTlr5XYKQ0QpzX_Xzag/edit?usp=sharing)\n",
        "\n",
        "\n",
        "<br>\n",
        "\n",
        "\n",
        "**Before starting, run the code below to import all necessary functions and libraries.**\n"
      ]
    },
    {
      "cell_type": "code",
      "execution_count": 43,
      "id": "YAvvLhRIoqYp",
      "metadata": {
        "cellView": "form",
        "id": "YAvvLhRIoqYp"
      },
      "outputs": [
        {
          "name": "stdout",
          "output_type": "stream",
          "text": [
            "Libraries imported successfully!\n"
          ]
        }
      ],
      "source": [
        "# @title\n",
        "\n",
        "import warnings\n",
        "import sympy\n",
        "import numpy\n",
        "import matplotlib\n",
        "import time\n",
        "import math\n",
        "from matplotlib import pyplot\n",
        "\n",
        "warnings.filterwarnings(\"ignore\")\n",
        "\n",
        "class baby():\n",
        "  def __init__(self,age=0, mood=\"crying\", hunger=\"hungry\"):\n",
        "    self.age = age\n",
        "    self.mood = mood\n",
        "    self.hunger = hunger\n",
        "  def feed(self):\n",
        "    self.hunger = \"full\"\n",
        "  def play(self):\n",
        "    self.mood = \"happy\"\n",
        "\n",
        "class second_lab():\n",
        "  def __init__(self,TA=\"NO TA SET\"):\n",
        "    self.topic = \"Introduction to Objects and Debugging\"\n",
        "    self.attendance_code = 1234\n",
        "    self.attendees = []\n",
        "    self.TA = TA\n",
        "  def check_in(self,name):\n",
        "    self.attendees.append(name)\n",
        "  def lab_summary(self):\n",
        "    print(\"Today in lab, we had an \" + self.topic + \" with our TA, \" + self.TA +\". We had some great people in attendance, such as:\" + \", \".join(self.attendees)+\". The attendance code is \" + str(self.attendance_code)+\".\")\n",
        "\n",
        "def calculate_area(length, width):\n",
        "  area = length * width\n",
        "  return area\n",
        "\n",
        "class plant():\n",
        "  def __init__(self):\n",
        "    self.planted = 0\n",
        "    self.day_of_last_growth = 0\n",
        "    self.day = 0\n",
        "    self.water = 0\n",
        "    self.light = 0\n",
        "    self.health = 10\n",
        "    self.stage = 0\n",
        "    self.perfect_light = numpy.random.choice([1,2,3,4,5,6,7,8,9,10])\n",
        "    self.perfect_water = numpy.random.choice([1,2,3,4,5,6,7,8,9,10])\n",
        "  def water_plant(self,amount):\n",
        "    if amount > 0:\n",
        "      print(\"You watered your plant.\")\n",
        "      self.water += round(amount)\n",
        "    elif amount < 0:\n",
        "      raise ValueError(\"You can't remove water from your plant! You will have to wait a bit for it to dry out.\")\n",
        "    else:\n",
        "      print(\"You decide to not water your plant.\")\n",
        "  def set_light(self,level):\n",
        "    if level <0:\n",
        "      raise ValueError(\"You can't set the light level to negative values.\")\n",
        "    elif level > 10:\n",
        "      raise ValueError(\"Your light is not that strong\")\n",
        "    else:\n",
        "      self.light = round(level)\n",
        "      print(\"You set the light to level \" + str(self.light))\n",
        "\n",
        "  def check_health(self):\n",
        "    print(\"Your plant's health is a \" + str(self.health)+ \"/\" + str(10+(5*self.stage))+\".\")\n",
        "    print(\"If you had to rate the wetness of the soil, it would be a \" + str(self.water)+ \"/10.\")\n",
        "    print(\"Your light is turned up to \" + str(self.light)+ \".\")\n",
        "    if self.stage == 10:\n",
        "      print(\"Your plant is full grown.\")\n",
        "  def wait(self,num_days):\n",
        "    for i in range(num_days):\n",
        "      self.day += 1\n",
        "      print('Day ' + str(self.day))\n",
        "      if self.perfect_light > self.light:\n",
        "        print(\"Your plant needs more light\")\n",
        "        self.health += -1*abs(self.perfect_light- self.light)/10\n",
        "      elif self.perfect_light < self.light:\n",
        "        print(\"Your plant needs less light\")\n",
        "        self.health += -1*abs(self.perfect_light- self.light)/10\n",
        "      else:\n",
        "        print(\"Your plant looks happy with the light it has.\")\n",
        "      if self.perfect_water > self.water:\n",
        "        print(\"Your plant needs more water\")\n",
        "        self.health += -1*abs(self.perfect_water- self.water)/10\n",
        "      elif self.perfect_water < self.water:\n",
        "        print(\"Your plant needs less water\")\n",
        "        self.health += -1*abs(self.perfect_water- self.water)/10\n",
        "      else:\n",
        "        print(\"Your plant looks happy with the water it had.\")\n",
        "      if self.perfect_light == self.light and self.perfect_water == self.water:\n",
        "        self.health = (self.health + 10+(5*self.stage))/2\n",
        "        if self.day- self.day_of_last_growth >= 5 and self.stage < 10:\n",
        "          print(\"Your plant grew a bit! Its preferances may have changed.\")\n",
        "          self.stage += 1\n",
        "          self.health += 5\n",
        "          self.day_of_last_growth = self.day\n",
        "          self.perfect_light = numpy.random.choice([1,2,3,4,5,6,7,8,9,10])\n",
        "          self.perfect_water = numpy.random.choice([1,2,3,4,5,6,7,8,9,10])\n",
        "          if self.stage == 10:\n",
        "            print(\"Congrats! Your plant is full grown.\")\n",
        "      self.water += -1*self.light\n",
        "      if self.water < 0:\n",
        "        self.water = 0\n",
        "      if self.health <= 0:\n",
        "        print(\"Your plant died! You decide to plant a new seed. Treat this one better!\")\n",
        "        self.planted = 0\n",
        "        self.day_of_last_growth = 0\n",
        "        self.day = 0\n",
        "        self.water = 0\n",
        "        self.light = 0\n",
        "        self.health = 10\n",
        "        self.stage = 0\n",
        "        self.perfect_light = numpy.random.choice([1,2,3,4,5,6,7,8,9,10])\n",
        "        self.perfect_water = numpy.random.choice([1,2,3,4,5,6,7,8,9,10])\n",
        "\n",
        "def dynamic_find_roots(a,b,c):\n",
        "  if b**2-4*a*c == 0:\n",
        "    return -b/(2*a)\n",
        "  elif b**2 - 4*a*c <0:\n",
        "    return (-b+1j*(4*a*c-b**2)**0.5)/(2*a),(-b-1j*(4*a*c-b**2)**0.5)/(2*a)\n",
        "  elif b**2 - 4*a*c >0:\n",
        "    return (-b+(b**2-4*a*c)**0.5)/(2*a),(-b-(b**2-4*a*c)**0.5)/(2*a)\n",
        "print(\"Libraries imported successfully!\")"
      ]
    },
    {
      "cell_type": "markdown",
      "id": "88bM7zNgm__2",
      "metadata": {
        "id": "88bM7zNgm__2"
      },
      "source": [
        "<a name=\"p1\"></a>\n",
        "\n",
        "---\n",
        "## **Part 1: Review**\n",
        "---"
      ]
    },
    {
      "cell_type": "markdown",
      "id": "8E_hjAwnzJIJ",
      "metadata": {
        "id": "8E_hjAwnzJIJ"
      },
      "source": [
        "#### **Problem #1.1**\n",
        "\n",
        "**Together**, let's label the following data types.\n",
        "\n",
        "<br>\n",
        "\n",
        "**NOTE**: You can change the text below by double clicking on the cell."
      ]
    },
    {
      "cell_type": "markdown",
      "id": "UgjKT51TYqvW",
      "metadata": {
        "id": "UgjKT51TYqvW"
      },
      "source": [
        "```\n",
        "2 integer\n",
        "8.9 floating\n",
        "\"Quantum is Cool!\"  string\n",
        "5.0  floating\n",
        "[\"string\"]  list\n",
        "```"
      ]
    },
    {
      "cell_type": "markdown",
      "id": "vbVHhpiin48S",
      "metadata": {
        "id": "vbVHhpiin48S"
      },
      "source": [
        "#### **Problem #1.2**\n",
        "\n",
        "**Together**, let's write code below to calculate 6 times 30 minus 15.5."
      ]
    },
    {
      "cell_type": "code",
      "execution_count": 44,
      "id": "aArc_XhAn7Wj",
      "metadata": {
        "id": "aArc_XhAn7Wj"
      },
      "outputs": [
        {
          "data": {
            "text/plain": [
              "164.5"
            ]
          },
          "execution_count": 44,
          "metadata": {},
          "output_type": "execute_result"
        }
      ],
      "source": [
        "6*30-15.5"
      ]
    },
    {
      "cell_type": "markdown",
      "id": "huF5E-rfpsk6",
      "metadata": {
        "id": "huF5E-rfpsk6"
      },
      "source": [
        "#### **Problem #1.3**\n",
        "\n",
        "**Together**, let's write code below to create a variables called `num_qubits` that equals 100. Then output the value of the variable."
      ]
    },
    {
      "cell_type": "code",
      "execution_count": 45,
      "id": "IQeZmqMspsk7",
      "metadata": {
        "id": "IQeZmqMspsk7"
      },
      "outputs": [
        {
          "data": {
            "text/plain": [
              "100"
            ]
          },
          "execution_count": 45,
          "metadata": {},
          "output_type": "execute_result"
        }
      ],
      "source": [
        "num_qubits = 100\n",
        "num_qubits"
      ]
    },
    {
      "cell_type": "markdown",
      "id": "viydnMGPp9Vn",
      "metadata": {
        "id": "viydnMGPp9Vn"
      },
      "source": [
        "#### **Problem #1.4**\n",
        "\n",
        "**Independently**, write code below to create a variables called `num_gates` that equals 12. Then output the value of the variable."
      ]
    },
    {
      "cell_type": "code",
      "execution_count": 46,
      "id": "RobdNtdJp9V0",
      "metadata": {
        "id": "RobdNtdJp9V0"
      },
      "outputs": [
        {
          "data": {
            "text/plain": [
              "12"
            ]
          },
          "execution_count": 46,
          "metadata": {},
          "output_type": "execute_result"
        }
      ],
      "source": [
        "num_gates = 12\n",
        "num_gates"
      ]
    },
    {
      "cell_type": "markdown",
      "id": "0hMTn7KLqMIw",
      "metadata": {
        "id": "0hMTn7KLqMIw"
      },
      "source": [
        "#### **Problem #1.5**\n",
        "\n",
        "Write code below to create a variables called `circuit_size` that equals `num_qubits` times `num_gates`. Then output the value of the variable."
      ]
    },
    {
      "cell_type": "code",
      "execution_count": 47,
      "id": "yHVTW11RqMI-",
      "metadata": {
        "id": "yHVTW11RqMI-"
      },
      "outputs": [
        {
          "data": {
            "text/plain": [
              "1200"
            ]
          },
          "execution_count": 47,
          "metadata": {},
          "output_type": "execute_result"
        }
      ],
      "source": [
        "circuit_size = num_qubits * num_gates\n",
        "circuit_size"
      ]
    },
    {
      "cell_type": "markdown",
      "id": "idga37M2FsMR",
      "metadata": {
        "id": "idga37M2FsMR"
      },
      "source": [
        "<a name=\"p2\"></a>\n",
        "\n",
        "---\n",
        "## **Part 2: Attributes and Methods**\n",
        "---\n",
        "Python and any libraries we install give us tons of objects to work with. In this part, we will practice interacting with objects using methods and attributes."
      ]
    },
    {
      "cell_type": "markdown",
      "id": "E90o2LJcwsMI",
      "metadata": {
        "id": "E90o2LJcwsMI"
      },
      "source": [
        "### **Problem #2.1**\n",
        "\n",
        "**Together**, let's create a \"baby\" object and output its \"age\" attribute.\n"
      ]
    },
    {
      "cell_type": "code",
      "execution_count": 48,
      "id": "ef77ha0_x9a_",
      "metadata": {
        "id": "ef77ha0_x9a_"
      },
      "outputs": [
        {
          "data": {
            "text/plain": [
              "0"
            ]
          },
          "execution_count": 48,
          "metadata": {},
          "output_type": "execute_result"
        }
      ],
      "source": [
        "jeremy = baby()\n",
        "jeremy.age"
      ]
    },
    {
      "cell_type": "markdown",
      "id": "2UHcbxTY0R7t",
      "metadata": {
        "id": "2UHcbxTY0R7t"
      },
      "source": [
        "### **Problem #2.2**\n",
        "\n",
        "**Together**, let's write code to set the baby's age to 2.\n"
      ]
    },
    {
      "cell_type": "code",
      "execution_count": 49,
      "id": "cIs8URcj0R8K",
      "metadata": {
        "id": "cIs8URcj0R8K"
      },
      "outputs": [],
      "source": [
        "jeremy.age = 2"
      ]
    },
    {
      "cell_type": "markdown",
      "id": "1NLuZ2HS0ib4",
      "metadata": {
        "id": "1NLuZ2HS0ib4"
      },
      "source": [
        "### **Problem #2.3**\n",
        "\n",
        "**Together**, output the baby's `hunger` attribute, then use its `feed` method (this method does not require any arguments). Finally, print out the new `hunger` attribute.\n"
      ]
    },
    {
      "cell_type": "code",
      "execution_count": 50,
      "id": "urA0ZLTi0icL",
      "metadata": {
        "id": "urA0ZLTi0icL"
      },
      "outputs": [
        {
          "data": {
            "text/plain": [
              "'hungry'"
            ]
          },
          "execution_count": 50,
          "metadata": {},
          "output_type": "execute_result"
        }
      ],
      "source": [
        "jeremy.hunger"
      ]
    },
    {
      "cell_type": "code",
      "execution_count": 51,
      "id": "n7gbGtKkW9S_",
      "metadata": {
        "id": "n7gbGtKkW9S_"
      },
      "outputs": [
        {
          "data": {
            "text/plain": [
              "'full'"
            ]
          },
          "execution_count": 51,
          "metadata": {},
          "output_type": "execute_result"
        }
      ],
      "source": [
        "jeremy.feed()\n",
        "jeremy.hunger"
      ]
    },
    {
      "cell_type": "markdown",
      "id": "PpyG4J8jyB_u",
      "metadata": {
        "id": "PpyG4J8jyB_u"
      },
      "source": [
        "###**Problem #2.4**\n",
        "\n",
        "**Independently**, create a new `baby` object, and output the `mood` attribute. Then, use its `play` method and output the `mood` attribute once again."
      ]
    },
    {
      "cell_type": "code",
      "execution_count": 52,
      "id": "za3WWQC6zl_y",
      "metadata": {
        "id": "za3WWQC6zl_y"
      },
      "outputs": [
        {
          "data": {
            "text/plain": [
              "'crying'"
            ]
          },
          "execution_count": 52,
          "metadata": {},
          "output_type": "execute_result"
        }
      ],
      "source": [
        "hemi = baby()\n",
        "hemi.mood"
      ]
    },
    {
      "cell_type": "code",
      "execution_count": 53,
      "id": "0eaf412b",
      "metadata": {},
      "outputs": [
        {
          "data": {
            "text/plain": [
              "'happy'"
            ]
          },
          "execution_count": 53,
          "metadata": {},
          "output_type": "execute_result"
        }
      ],
      "source": [
        "hemi.play()\n",
        "hemi.mood"
      ]
    },
    {
      "cell_type": "markdown",
      "id": "y06lT5ANLLjA",
      "metadata": {
        "id": "y06lT5ANLLjA"
      },
      "source": [
        "###**Problem #2.5**\n",
        "\n",
        "**Independently**, create a new `baby` object. Output its age attribute. Next, use its `feed` method, use its `play` method, and set its age attribute to 1. Then, output its `mood`, `hunger`, and new `age` attributes."
      ]
    },
    {
      "cell_type": "code",
      "execution_count": 54,
      "id": "ECzPUucnM9wF",
      "metadata": {
        "id": "ECzPUucnM9wF"
      },
      "outputs": [],
      "source": [
        "tom = baby()\n",
        "tom.feed()\n",
        "tom.play()\n",
        "tom.age = 1"
      ]
    },
    {
      "cell_type": "code",
      "execution_count": 55,
      "id": "ovWX1bpNM9e5",
      "metadata": {
        "id": "ovWX1bpNM9e5"
      },
      "outputs": [
        {
          "data": {
            "text/plain": [
              "'happy'"
            ]
          },
          "execution_count": 55,
          "metadata": {},
          "output_type": "execute_result"
        }
      ],
      "source": [
        "tom.mood"
      ]
    },
    {
      "cell_type": "code",
      "execution_count": 56,
      "id": "QwNeCFwMXSQ5",
      "metadata": {
        "id": "QwNeCFwMXSQ5"
      },
      "outputs": [
        {
          "data": {
            "text/plain": [
              "'full'"
            ]
          },
          "execution_count": 56,
          "metadata": {},
          "output_type": "execute_result"
        }
      ],
      "source": [
        "tom.hunger"
      ]
    },
    {
      "cell_type": "code",
      "execution_count": 57,
      "id": "9pfI3fSHXR1T",
      "metadata": {
        "id": "9pfI3fSHXR1T"
      },
      "outputs": [
        {
          "data": {
            "text/plain": [
              "1"
            ]
          },
          "execution_count": 57,
          "metadata": {},
          "output_type": "execute_result"
        }
      ],
      "source": [
        "tom.age"
      ]
    },
    {
      "cell_type": "markdown",
      "id": "9cPRASJ84IOA",
      "metadata": {
        "id": "9cPRASJ84IOA"
      },
      "source": [
        "### **Problem #2.6**\n",
        "\n",
        "**Together**, create a `second_lab` object, and set the `TA` attribute to the name of your TA. Then, output the `TA` attribute."
      ]
    },
    {
      "cell_type": "code",
      "execution_count": 58,
      "id": "waLbv5zf4IOZ",
      "metadata": {
        "id": "waLbv5zf4IOZ"
      },
      "outputs": [
        {
          "data": {
            "text/plain": [
              "'Alex'"
            ]
          },
          "execution_count": 58,
          "metadata": {},
          "output_type": "execute_result"
        }
      ],
      "source": [
        "my_lab = second_lab()\n",
        "my_lab.TA = \"Alex\"\n",
        "my_lab.TA"
      ]
    },
    {
      "cell_type": "markdown",
      "id": "lVSDMw5H3eXk",
      "metadata": {
        "id": "lVSDMw5H3eXk"
      },
      "source": [
        "### **Problem #2.7**\n",
        "\n",
        "**Independently**, use the `attendance_code` attribute of the `second_lab` object to find today's attendance poll code.\n"
      ]
    },
    {
      "cell_type": "code",
      "execution_count": 59,
      "id": "p2BGGITW3eYE",
      "metadata": {
        "id": "p2BGGITW3eYE"
      },
      "outputs": [
        {
          "data": {
            "text/plain": [
              "1307"
            ]
          },
          "execution_count": 59,
          "metadata": {},
          "output_type": "execute_result"
        }
      ],
      "source": [
        "my_lab.attendance_code = 1307\n",
        "my_lab.attendance_code"
      ]
    },
    {
      "cell_type": "markdown",
      "id": "6tjrl7kx2-Sz",
      "metadata": {
        "id": "6tjrl7kx2-Sz"
      },
      "source": [
        "### **Problem #2.8**\n",
        "\n",
        "**Independently**, use the `check_in` method of the `second_lab` object to add your name to the list of attendees. This method requires one argument: the name of the person checking in. Check that your name was added to the list of attendees by checking the `attendees` attribute.\n"
      ]
    },
    {
      "cell_type": "code",
      "execution_count": 60,
      "id": "nYpfSXby2-S9",
      "metadata": {
        "id": "nYpfSXby2-S9"
      },
      "outputs": [
        {
          "data": {
            "text/plain": [
              "['Hemant']"
            ]
          },
          "execution_count": 60,
          "metadata": {},
          "output_type": "execute_result"
        }
      ],
      "source": [
        "my_lab.check_in(name=\"Hemant\")\n",
        "my_lab.attendees"
      ]
    },
    {
      "cell_type": "markdown",
      "id": "uW7IdP0C9WJp",
      "metadata": {
        "id": "uW7IdP0C9WJp"
      },
      "source": [
        "###**Problem #2.9**\n",
        "\n",
        "**Independently**, create a `plant` object using its corresponding function. Then, using the following methods, check its health, water it, set it's light level, wait three days, and check its health again.\n",
        "\n",
        "* `check_health()`\n",
        "* `water_plant(amount)`\n",
        "* `set_light(level)`\n",
        "* `wait(num_days)`"
      ]
    },
    {
      "cell_type": "code",
      "execution_count": 70,
      "id": "1jqDWpnSFjTX",
      "metadata": {
        "id": "1jqDWpnSFjTX"
      },
      "outputs": [],
      "source": [
        "plant1 = plant()"
      ]
    },
    {
      "cell_type": "code",
      "execution_count": 71,
      "id": "Uu6nEPLLFjJs",
      "metadata": {
        "id": "Uu6nEPLLFjJs"
      },
      "outputs": [
        {
          "name": "stdout",
          "output_type": "stream",
          "text": [
            "Your plant's health is a 10/10.\n",
            "If you had to rate the wetness of the soil, it would be a 0/10.\n",
            "Your light is turned up to 0.\n"
          ]
        }
      ],
      "source": [
        "plant1.check_health()"
      ]
    },
    {
      "cell_type": "code",
      "execution_count": 72,
      "id": "NpVj77wV9VwJ",
      "metadata": {
        "id": "NpVj77wV9VwJ"
      },
      "outputs": [
        {
          "name": "stdout",
          "output_type": "stream",
          "text": [
            "You watered your plant.\n"
          ]
        }
      ],
      "source": [
        "plant1.water_plant(amount=10)"
      ]
    },
    {
      "cell_type": "code",
      "execution_count": 73,
      "id": "6y0i_BSEHQs1",
      "metadata": {
        "id": "6y0i_BSEHQs1"
      },
      "outputs": [
        {
          "name": "stdout",
          "output_type": "stream",
          "text": [
            "You set the light to level 10\n"
          ]
        }
      ],
      "source": [
        "plant1.set_light(level=10)"
      ]
    },
    {
      "cell_type": "code",
      "execution_count": 74,
      "id": "b6efc99f",
      "metadata": {},
      "outputs": [
        {
          "name": "stdout",
          "output_type": "stream",
          "text": [
            "Day 1\n",
            "Your plant needs less light\n",
            "Your plant needs less water\n",
            "Day 2\n",
            "Your plant needs less light\n",
            "Your plant needs more water\n",
            "Day 3\n",
            "Your plant needs less light\n",
            "Your plant needs more water\n",
            "Day 4\n",
            "Your plant needs less light\n",
            "Your plant needs more water\n",
            "Day 5\n",
            "Your plant needs less light\n",
            "Your plant needs more water\n",
            "Day 6\n",
            "Your plant needs less light\n",
            "Your plant needs more water\n",
            "Day 7\n",
            "Your plant needs less light\n",
            "Your plant needs more water\n",
            "Day 8\n",
            "Your plant needs less light\n",
            "Your plant needs more water\n",
            "Day 9\n",
            "Your plant needs less light\n",
            "Your plant needs more water\n",
            "Day 10\n",
            "Your plant needs less light\n",
            "Your plant needs more water\n"
          ]
        }
      ],
      "source": [
        "plant1.wait(num_days=10)"
      ]
    },
    {
      "cell_type": "markdown",
      "id": "Os9kMW424iWf",
      "metadata": {
        "id": "Os9kMW424iWf"
      },
      "source": [
        "### **Problem #2.10 [CHALLENGE]**\n",
        "**Independently**, add the names of two of your classmates to the list of attendees. Then, check the [methods of the list object](https://www.w3schools.com/python/python_ref_list.asp) to find a method that will sort the list of attendees alphabetically. Finally, call the `lab_summary` method of the `second_lab` object to print out a lab summary (this method does not require any arguments)\n",
        "\n",
        "**Note:** Whenever you get stuck on a piece of code, you can always look up the object or the function you are working with, and there will be documentation describing all methods, attriutes, and required arguments."
      ]
    },
    {
      "cell_type": "code",
      "execution_count": 75,
      "id": "Fb6kvtGQ4iWn",
      "metadata": {
        "id": "Fb6kvtGQ4iWn"
      },
      "outputs": [
        {
          "name": "stdout",
          "output_type": "stream",
          "text": [
            "Today in lab, we had an Introduction to Objects and Debugging with our TA, Alex. We had some great people in attendance, such as:Hemant, Amit, Aman. The attendance code is 1307.\n"
          ]
        }
      ],
      "source": [
        "my_lab.check_in(\"Amit\")\n",
        "my_lab.check_in(\"Aman\")\n",
        "my_lab.lab_summary()"
      ]
    },
    {
      "cell_type": "markdown",
      "id": "_uX885yrIh5T",
      "metadata": {
        "id": "_uX885yrIh5T"
      },
      "source": [
        "---\n",
        "\n",
        "<center>\n",
        "\n",
        "### **Wait for Your Instructor to Continue**\n",
        "\n",
        "---"
      ]
    },
    {
      "cell_type": "markdown",
      "id": "XvDIuw6vlsKN",
      "metadata": {
        "id": "XvDIuw6vlsKN"
      },
      "source": [
        "<a name=\"p3\"></a>\n",
        "\n",
        "---\n",
        "## **Part 3: Debugging**\n",
        "---\n",
        "\n",
        "In this part, we will explore how to identify and correct errors in Python.\n",
        "\n",
        "<br>\n",
        "\n",
        "**NOTE**: Here and in general, you may not be familiar with the syntax presented in every line of code. However, you can use what you *do know* to solve the problems here and, often, in general."
      ]
    },
    {
      "cell_type": "markdown",
      "id": "ApCmfZIh-ecP",
      "metadata": {
        "id": "ApCmfZIh-ecP"
      },
      "source": [
        "#### **Problem #3.1**\n",
        "\n",
        "**Together,** remove the line of code that causes the error."
      ]
    },
    {
      "cell_type": "code",
      "execution_count": 66,
      "id": "_TvLwwZv-ecQ",
      "metadata": {
        "colab": {
          "base_uri": "https://localhost:8080/"
        },
        "id": "_TvLwwZv-ecQ",
        "outputId": "a9e1e986-e27f-4670-a993-4c812f16bcd2"
      },
      "outputs": [
        {
          "name": "stdout",
          "output_type": "stream",
          "text": [
            "2\n",
            "3\n",
            "4\n"
          ]
        }
      ],
      "source": [
        "my_list = [1,2,3,4]\n",
        "print(my_list[1])\n",
        "print(my_list[2])\n",
        "print(my_list[3])"
      ]
    },
    {
      "cell_type": "markdown",
      "id": "rHWtdxaXPOrK",
      "metadata": {
        "id": "rHWtdxaXPOrK"
      },
      "source": [
        "#### **Problem #3.2**\n",
        "\n",
        "**Together**, correctly print each entry from my_list."
      ]
    },
    {
      "cell_type": "code",
      "execution_count": 76,
      "id": "sRqUoXp-PjJG",
      "metadata": {
        "colab": {
          "base_uri": "https://localhost:8080/"
        },
        "id": "sRqUoXp-PjJG",
        "outputId": "f4f37146-7983-4d74-dacb-601499765840"
      },
      "outputs": [
        {
          "name": "stdout",
          "output_type": "stream",
          "text": [
            "[1, 2, 3, 4]\n"
          ]
        }
      ],
      "source": [
        "print(my_list)"
      ]
    },
    {
      "cell_type": "markdown",
      "id": "nU_fifgR7jM5",
      "metadata": {
        "id": "nU_fifgR7jM5"
      },
      "source": [
        "#### **Problem #3.3**\n",
        "\n",
        "**Together,** debug the code shown below."
      ]
    },
    {
      "cell_type": "code",
      "execution_count": 77,
      "id": "gciUmz8i7jNN",
      "metadata": {
        "colab": {
          "base_uri": "https://localhost:8080/",
          "height": 217
        },
        "id": "gciUmz8i7jNN",
        "outputId": "a7ed1591-afe0-4594-caf4-143b0d166fb1"
      },
      "outputs": [
        {
          "name": "stdout",
          "output_type": "stream",
          "text": [
            "3.0\n",
            "-3.0\n"
          ]
        }
      ],
      "source": [
        "#f(x) = ax^2 + bx + c\n",
        "a = 1\n",
        "b = 0\n",
        "c = -9\n",
        "x1 = (-b + (b**2 - 4*a*c)**0.5)/(2*a)\n",
        "X2 = (-b - (b**2 - 4*a*c)**0.5)/(2*a)\n",
        "print(x1)\n",
        "print(X2)"
      ]
    },
    {
      "cell_type": "markdown",
      "id": "eU1RYFlx8cJ6",
      "metadata": {
        "id": "eU1RYFlx8cJ6"
      },
      "source": [
        "#### **Problem #3.4**\n",
        "\n",
        "**Independently,** debug the code shown below."
      ]
    },
    {
      "cell_type": "code",
      "execution_count": 82,
      "id": "7T_0BfxG8cKE",
      "metadata": {
        "colab": {
          "base_uri": "https://localhost:8080/",
          "height": 321
        },
        "id": "7T_0BfxG8cKE",
        "outputId": "e5b73a08-b0c0-4c39-9f0e-0701efa5f204"
      },
      "outputs": [
        {
          "name": "stdout",
          "output_type": "stream",
          "text": [
            "The area is 300\n"
          ]
        }
      ],
      "source": [
        "length = 30\n",
        "width = 10\n",
        "area = calculate_area(length, width)\n",
        "print(\"The area is\",area)"
      ]
    },
    {
      "cell_type": "markdown",
      "id": "u0vQg1AM8qDU",
      "metadata": {
        "id": "u0vQg1AM8qDU"
      },
      "source": [
        "#### **Problem #3.5**\n",
        "\n",
        "**Independently,** debug the code shown below."
      ]
    },
    {
      "cell_type": "code",
      "execution_count": 85,
      "id": "8mauoKut8qDt",
      "metadata": {
        "colab": {
          "base_uri": "https://localhost:8080/",
          "height": 211
        },
        "id": "8mauoKut8qDt",
        "outputId": "0e4024c6-1b94-492a-8c60-e4144913cc61"
      },
      "outputs": [
        {
          "name": "stdout",
          "output_type": "stream",
          "text": [
            "ricky\n"
          ]
        }
      ],
      "source": [
        "my_name = \"ricky\"\n",
        "my_name.capitalize()\n",
        "print(my_name)"
      ]
    },
    {
      "cell_type": "markdown",
      "id": "RE9FToJzAqOc",
      "metadata": {
        "id": "RE9FToJzAqOc"
      },
      "source": [
        "#### **Problem #3.6**\n",
        "\n",
        "**Independently**, debug the code shown below."
      ]
    },
    {
      "cell_type": "code",
      "execution_count": 86,
      "id": "7kfw5iyWA2a3",
      "metadata": {
        "colab": {
          "base_uri": "https://localhost:8080/",
          "height": 228
        },
        "id": "7kfw5iyWA2a3",
        "outputId": "b60eaca1-a71b-4317-82d3-7a355c7b0999"
      },
      "outputs": [
        {
          "name": "stdout",
          "output_type": "stream",
          "text": [
            "103823\n"
          ]
        }
      ],
      "source": [
        "x = 47\n",
        "y = 3\n",
        "z = x**y\n",
        "print(z)"
      ]
    },
    {
      "cell_type": "markdown",
      "id": "AQ_Z2Ct9_QG9",
      "metadata": {
        "id": "AQ_Z2Ct9_QG9"
      },
      "source": [
        "#### **Problem #3.7**\n",
        "\n",
        "**Independently**, debug the code shown below."
      ]
    },
    {
      "cell_type": "code",
      "execution_count": 87,
      "id": "LJdSVbcc_eeF",
      "metadata": {
        "colab": {
          "base_uri": "https://localhost:8080/",
          "height": 211
        },
        "id": "LJdSVbcc_eeF",
        "outputId": "87597637-4fbf-4204-a13c-a4d77ef92734"
      },
      "outputs": [
        {
          "name": "stdout",
          "output_type": "stream",
          "text": [
            "crying\n",
            "happy\n"
          ]
        }
      ],
      "source": [
        "willoughby = baby()\n",
        "print(willoughby.mood)\n",
        "willoughby.play()\n",
        "print(willoughby.mood)"
      ]
    },
    {
      "cell_type": "markdown",
      "id": "NfApuJeDC6Ht",
      "metadata": {
        "id": "NfApuJeDC6Ht"
      },
      "source": [
        "#### **Problem #3.8**\n",
        "\n",
        "**Independently**, debug the code shown below."
      ]
    },
    {
      "cell_type": "code",
      "execution_count": 88,
      "id": "NF2e5jYVDSh3",
      "metadata": {
        "colab": {
          "base_uri": "https://localhost:8080/"
        },
        "id": "NF2e5jYVDSh3",
        "outputId": "793eac0c-2a43-4931-f864-bfc81334af46"
      },
      "outputs": [
        {
          "name": "stdout",
          "output_type": "stream",
          "text": [
            "Your plant's health is a 10/10.\n",
            "If you had to rate the wetness of the soil, it would be a 0/10.\n",
            "Your light is turned up to 0.\n"
          ]
        }
      ],
      "source": [
        "cactus = plant()\n",
        "cactus.check_health()"
      ]
    },
    {
      "cell_type": "code",
      "execution_count": 90,
      "id": "7xvp4wRJEavz",
      "metadata": {
        "colab": {
          "base_uri": "https://localhost:8080/",
          "height": 211
        },
        "id": "7xvp4wRJEavz",
        "outputId": "f9a5cafa-b25a-4594-d4b2-690fd498c3dd"
      },
      "outputs": [
        {
          "name": "stdout",
          "output_type": "stream",
          "text": [
            "You watered your plant.\n",
            "You set the light to level 8\n",
            "Your plant's health is a 10/10.\n",
            "If you had to rate the wetness of the soil, it would be a 1/10.\n",
            "Your light is turned up to 8.\n"
          ]
        }
      ],
      "source": [
        "cactus.water_plant(1)\n",
        "cactus.set_light(8)\n",
        "cactus.check_health()"
      ]
    },
    {
      "cell_type": "code",
      "execution_count": 91,
      "id": "ik32NRnZEbFV",
      "metadata": {
        "colab": {
          "base_uri": "https://localhost:8080/",
          "height": 193
        },
        "id": "ik32NRnZEbFV",
        "outputId": "61148b2b-04ab-441b-fe99-dd34054fbd66"
      },
      "outputs": [
        {
          "name": "stdout",
          "output_type": "stream",
          "text": [
            "Day 1\n",
            "Your plant needs less light\n",
            "Your plant needs more water\n",
            "Day 2\n",
            "Your plant needs less light\n",
            "Your plant needs more water\n",
            "Day 3\n",
            "Your plant needs less light\n",
            "Your plant needs more water\n",
            "<bound method plant.check_health of <__main__.plant object at 0x000001ECFE85FE50>>\n"
          ]
        }
      ],
      "source": [
        "cactus.wait(3)\n",
        "print(cactus.check_health)"
      ]
    },
    {
      "cell_type": "markdown",
      "id": "VnBfb8HlRC3c",
      "metadata": {
        "id": "VnBfb8HlRC3c"
      },
      "source": [
        "<a name=\"p4\"></a>\n",
        "\n",
        "---\n",
        "## **Part 4: Additional Practice [OPTIONAL]**\n",
        "---"
      ]
    },
    {
      "cell_type": "markdown",
      "id": "cQ8l5K3qRQAa",
      "metadata": {
        "id": "cQ8l5K3qRQAa"
      },
      "source": [
        "<a name=\"p4.1\"></a>\n",
        "\n",
        "---\n",
        "### **Part 4.1: The Fundamentals**\n",
        "---\n",
        "\n",
        "This part contains questions on the basic syntax that we have learned. Use this section to practice and check your understanding."
      ]
    },
    {
      "cell_type": "markdown",
      "id": "oMCHyhfet4wi",
      "metadata": {
        "id": "oMCHyhfet4wi"
      },
      "source": [
        "#### **Problem #4.1.1**\n",
        "\n",
        "Write code that outputs the names of three different countries. **HINT**: You will need a new code cell for every output."
      ]
    },
    {
      "cell_type": "code",
      "execution_count": null,
      "id": "_WGe1OS14lY4",
      "metadata": {
        "id": "_WGe1OS14lY4"
      },
      "outputs": [],
      "source": [
        "# COMPLETE THIS CODE"
      ]
    },
    {
      "cell_type": "code",
      "execution_count": null,
      "id": "oEnG4TGIsRFV",
      "metadata": {
        "id": "oEnG4TGIsRFV"
      },
      "outputs": [],
      "source": [
        "# COMPLETE THIS CODE"
      ]
    },
    {
      "cell_type": "code",
      "execution_count": null,
      "id": "fp5qPW6HsRk-",
      "metadata": {
        "id": "fp5qPW6HsRk-"
      },
      "outputs": [],
      "source": [
        "# COMPLETE THIS CODE"
      ]
    },
    {
      "cell_type": "markdown",
      "id": "QinoVuPOAdBg",
      "metadata": {
        "id": "QinoVuPOAdBg"
      },
      "source": [
        "#### **Problem #4.1.2**\n",
        "\n",
        "Write code that outputs the result of multiplying 5 by 23."
      ]
    },
    {
      "cell_type": "code",
      "execution_count": null,
      "id": "z4kNYrt2Nj0W",
      "metadata": {
        "id": "z4kNYrt2Nj0W"
      },
      "outputs": [],
      "source": [
        "# COMPLETE THIS CODE"
      ]
    },
    {
      "cell_type": "markdown",
      "id": "brKDsi2BuT75",
      "metadata": {
        "id": "brKDsi2BuT75"
      },
      "source": [
        "#### **Problem #4.1.3**\n",
        "\n",
        "Write code that outputs the result of raising 2 to the 100th power."
      ]
    },
    {
      "cell_type": "code",
      "execution_count": null,
      "id": "_XU69Lrc4mJ-",
      "metadata": {
        "id": "_XU69Lrc4mJ-"
      },
      "outputs": [],
      "source": [
        "# COMPLETE THIS CODE"
      ]
    },
    {
      "cell_type": "markdown",
      "id": "DrNIKf1TAo1z",
      "metadata": {
        "id": "DrNIKf1TAo1z"
      },
      "source": [
        "#### **Problem #4.1.4**\n",
        "Write code that creates and outputs a variable called `popular_name` and assign to it the `string` `'Olivia'`."
      ]
    },
    {
      "cell_type": "code",
      "execution_count": null,
      "id": "cD69JsmO47iH",
      "metadata": {
        "id": "cD69JsmO47iH"
      },
      "outputs": [],
      "source": [
        "# COMPLETE THIS CODE"
      ]
    },
    {
      "cell_type": "markdown",
      "id": "oLDz58wguUFM",
      "metadata": {
        "id": "oLDz58wguUFM"
      },
      "source": [
        "#### **Problem #4.1.5**\n",
        "\n",
        "Create a variable `birth_year` and set it equal to the year your were born. Then print, `\"I was born in <birth_year>\"`."
      ]
    },
    {
      "cell_type": "code",
      "execution_count": null,
      "id": "xt9fHgKF5Az3",
      "metadata": {
        "id": "xt9fHgKF5Az3"
      },
      "outputs": [],
      "source": [
        "# COMPLETE THIS CODE"
      ]
    },
    {
      "cell_type": "code",
      "execution_count": null,
      "id": "S2qI4u-dr3Kz",
      "metadata": {
        "id": "S2qI4u-dr3Kz"
      },
      "outputs": [],
      "source": [
        "# COMPLETE THIS CODE"
      ]
    },
    {
      "cell_type": "markdown",
      "id": "-bnV4zY2yMs8",
      "metadata": {
        "id": "-bnV4zY2yMs8"
      },
      "source": [
        "#### **Problem #4.1.6**\n",
        "\n",
        "Create a variable `favorite_food` and assign to it a `string` with your favorite food. Print `'I love to eat <favorite_food>'`."
      ]
    },
    {
      "cell_type": "code",
      "execution_count": null,
      "id": "DqES7-rS5jcm",
      "metadata": {
        "id": "DqES7-rS5jcm"
      },
      "outputs": [],
      "source": [
        "# COMPLETE THIS CODE"
      ]
    },
    {
      "cell_type": "code",
      "execution_count": null,
      "id": "jLNR6hi0sFEQ",
      "metadata": {
        "id": "jLNR6hi0sFEQ"
      },
      "outputs": [],
      "source": [
        "# COMPLETE THIS CODE"
      ]
    },
    {
      "cell_type": "markdown",
      "id": "WwhkO1SgAuov",
      "metadata": {
        "id": "WwhkO1SgAuov"
      },
      "source": [
        "#### **Problem #4.1.7**\n",
        "\n",
        "Debug the code shown below."
      ]
    },
    {
      "cell_type": "code",
      "execution_count": null,
      "id": "Rhg2s6BIAupN",
      "metadata": {
        "colab": {
          "base_uri": "https://localhost:8080/",
          "height": 197
        },
        "id": "Rhg2s6BIAupN",
        "outputId": "9935b00b-1bb1-4600-c18a-ee5db80c6dc2"
      },
      "outputs": [
        {
          "ename": "AttributeError",
          "evalue": "ignored",
          "output_type": "error",
          "traceback": [
            "\u001b[0;31m---------------------------------------------------------------------------\u001b[0m",
            "\u001b[0;31mAttributeError\u001b[0m                            Traceback (most recent call last)",
            "\u001b[0;32m<ipython-input-21-8abf47e2217f>\u001b[0m in \u001b[0;36m<cell line: 1>\u001b[0;34m()\u001b[0m\n\u001b[0;32m----> 1\u001b[0;31m \u001b[0mmy_list\u001b[0m \u001b[0;34m=\u001b[0m \u001b[0;34m[\u001b[0m\u001b[0;36m10\u001b[0m\u001b[0;34m]\u001b[0m\u001b[0;34m.\u001b[0m\u001b[0mappend\u001b[0m\u001b[0;34m(\u001b[0m\u001b[0;36m20\u001b[0m\u001b[0;34m)\u001b[0m\u001b[0;34m.\u001b[0m\u001b[0mappend\u001b[0m\u001b[0;34m(\u001b[0m\u001b[0;36m30\u001b[0m\u001b[0;34m)\u001b[0m\u001b[0;34m\u001b[0m\u001b[0;34m\u001b[0m\u001b[0m\n\u001b[0m\u001b[1;32m      2\u001b[0m \u001b[0mmy_list\u001b[0m\u001b[0;34m\u001b[0m\u001b[0;34m\u001b[0m\u001b[0m\n",
            "\u001b[0;31mAttributeError\u001b[0m: 'NoneType' object has no attribute 'append'"
          ]
        }
      ],
      "source": [
        "my_list = [10].append(20).append(30)\n",
        "my_list"
      ]
    },
    {
      "cell_type": "markdown",
      "id": "eyRaXBoqAfLp",
      "metadata": {
        "id": "eyRaXBoqAfLp"
      },
      "source": [
        "#### **Problem #4.1.8**\n",
        "\n",
        "Debug the following code.\n",
        "\n",
        "**HINT**: How many roots should this polynomial have? Even if you're not sure about the math, you could use some of the code below to find out!"
      ]
    },
    {
      "cell_type": "code",
      "execution_count": null,
      "id": "kIDe-AnOAfME",
      "metadata": {
        "colab": {
          "base_uri": "https://localhost:8080/",
          "height": 214
        },
        "id": "kIDe-AnOAfME",
        "outputId": "4b47c576-c715-4b6b-dd68-667404fa65a6"
      },
      "outputs": [
        {
          "ename": "NameError",
          "evalue": "ignored",
          "output_type": "error",
          "traceback": [
            "\u001b[0;31m---------------------------------------------------------------------------\u001b[0m",
            "\u001b[0;31mNameError\u001b[0m                                 Traceback (most recent call last)",
            "\u001b[0;32m<ipython-input-23-ec7a8fb03e41>\u001b[0m in \u001b[0;36m<cell line: 2>\u001b[0;34m()\u001b[0m\n\u001b[1;32m      1\u001b[0m \u001b[0;31m#f(x) = x^2 + 2x + 1\u001b[0m\u001b[0;34m\u001b[0m\u001b[0;34m\u001b[0m\u001b[0m\n\u001b[0;32m----> 2\u001b[0;31m \u001b[0mroot1\u001b[0m\u001b[0;34m,\u001b[0m \u001b[0mroot2\u001b[0m \u001b[0;34m=\u001b[0m \u001b[0mdynamic_find_roots\u001b[0m\u001b[0;34m(\u001b[0m\u001b[0;36m1\u001b[0m\u001b[0;34m,\u001b[0m\u001b[0;36m2\u001b[0m\u001b[0;34m,\u001b[0m\u001b[0;36m1\u001b[0m\u001b[0;34m)\u001b[0m\u001b[0;34m\u001b[0m\u001b[0;34m\u001b[0m\u001b[0m\n\u001b[0m\u001b[1;32m      3\u001b[0m \u001b[0mroot1\u001b[0m\u001b[0;34m\u001b[0m\u001b[0;34m\u001b[0m\u001b[0m\n",
            "\u001b[0;31mNameError\u001b[0m: name 'dynamic_find_roots' is not defined"
          ]
        }
      ],
      "source": [
        "#f(x) = x^2 + 2x + 1\n",
        "root1, root2 = dynamic_find_roots(1,2,1)\n",
        "root1"
      ]
    },
    {
      "cell_type": "code",
      "execution_count": null,
      "id": "MViu8rh4si1i",
      "metadata": {
        "id": "MViu8rh4si1i"
      },
      "outputs": [],
      "source": [
        "root2"
      ]
    },
    {
      "cell_type": "markdown",
      "id": "cyjIYqnXCenC",
      "metadata": {
        "id": "cyjIYqnXCenC"
      },
      "source": [
        "<a name=\"p4.2\"></a>\n",
        "\n",
        "---\n",
        "### **Part 4.2: Coding Challenges**\n",
        "---\n",
        "\n",
        "This part contains more challenging problems that you can use to push your Python skills to the next level! **Remember what we have learned about the core programming skills of debugging and reading documentation to tackle these problems.**"
      ]
    },
    {
      "cell_type": "markdown",
      "id": "gAnsBVX0Gpwl",
      "metadata": {
        "id": "gAnsBVX0Gpwl"
      },
      "source": [
        "#### **Problem #4.2.1**\n",
        "\n",
        "**Independently,** write code that prints out a reversed list."
      ]
    },
    {
      "cell_type": "code",
      "execution_count": null,
      "id": "YCOSc8uGGpw6",
      "metadata": {
        "id": "YCOSc8uGGpw6"
      },
      "outputs": [],
      "source": [
        "my_list = [\"one\",\"two\",\"three\", \"four\",\"five\"]\n",
        "# COMPLETE THIS CODE"
      ]
    },
    {
      "cell_type": "markdown",
      "id": "so8qhJ7dHtLn",
      "metadata": {
        "id": "so8qhJ7dHtLn"
      },
      "source": [
        "#### **Problem #4.2.2**\n",
        "\n",
        "**Independently,** write code that counts how many times [this article](https://www.ted.com/read/ted-studies/physics/introductory-essay) uses the word \"physics\".\n",
        "\n",
        "**Hint:** The string \"physics\" is different from the string \"Physics\". You will need to check for both!"
      ]
    },
    {
      "cell_type": "code",
      "execution_count": null,
      "id": "ODL4nTpIHtLo",
      "metadata": {
        "id": "ODL4nTpIHtLo"
      },
      "outputs": [],
      "source": [
        "speech = \"\"\"To the outside observer, it may seem that physics is in some ways the opposite of art and that physicists must sacrifice their artistic intelligence to make way for cold rationality and logic. But nothing could be farther from the truth: Each step forward in our understanding of the universe could not have been conceived without an enormous dose of intuition and creativity. Physicists are on a quest to figure out how nature works at the most fundamental level. This is a romantic story, penned in what may seem the least emotive of languages: mathematics. What's surprising is that the immeasurable beauty of the world is far from lost once its inner workings are expressed in this abstract language. Moreover, there remains something deeply intriguing about the fact that the universe is governed by the rules of mathematics in the first place. As we'll hear from Murray Gell-Mann in the first of the TEDTalks in The Edge of Knowledge, these beautiful mathematical laws are \"not merely a conceit of the human mind\" — instead, they're an intrinsic part of nature. Many successful ideas in science can be described as beautiful and very often this is a reference to the simplicity and conciseness of nature's laws. Einstein's special and general theories of relativity, which describe how space, time and gravity behave, are based on only three brief postulates. The laws of electromagnetism, which govern every aspect of how we experience the worldthrough sight, sound, smell, taste or touch, are so concise thatthey can be written on the front of a T-shirt. The Standard Model of Particle Physics, which describes all of the known particles and three of the four forces that act between them, fits on the side of a coffee mug. As we will hear from Garrett Lisi, looking for beauty in the patterns that emerge in the laws of physics can tell us about how the universe works at the most fundamental level. Science is a collaborative discipline and a global one too. It is the extent to which scientists cooperate that allows science to move at an incredible pace. The majority of the ideas presented in these TEDTalks have been around no longer than 50 years; some less than a decade. Since these speakers featured in The Edge of Knowledge delivered their TEDTalks, scientists working in global collaborations have developed and implemented several new experimental measurements. Most recently, the European Space Agency's Planck satellite has made precise measurements of the Cosmic Microwave Background (CMB): the results are in agreement with the predictions of the Standard Cosmological Model, which describes how the universe evolved from the Big Bang to what we see today. In Brian Cox's TEDTalk, we'll hear about the search for new elementary particles at CERN's Large Hadron Collider, encompassing the work of over 10,000 physicists from over 100 countries. This search is underway, and appears already to have yielded one of the most important scientific results of the 21st century: the discovery of the Higgs boson, the final ingredient predicted by the Standard Model of Particle Physics. Notwithstanding the significance of these recent discoveries and their agreement with predictions, our picture of the fundamental structure of the universe is far from complete: a number of big mysteries remain in both particle physics and cosmology. As we'll hear from Patricia Burchat, many of these mysteries link together the physics of the smallest elementary particles and the largest distances of the cosmos. One of the most enduring mysteries is how to reconcile a complete theory of gravity with our understanding of the fundamental particles. From Brian Greene, we'll hear about the potential of string theory to solve this problem and the possible existence of tiny, curled up, extra spatial dimensions. However, fundamental laws are not enough on their own. Aristotle said that \"all human actions have one or more of these seven causes: chance, nature, compulsion, habit, reason, passion, and desire.\" It's the first of these — chance — that is not decided by the laws of physics; in fact, chance is not decided at all. The fundamental laws of physics cannot predict what will happen; they can only tell us what might happen. This uncertainty is built into the laws of quantum mechanics. As we'll hear from Aaron O'Connell, the most striking feature of quantum mechanics is that it's weird. For example, we're challenged to contemplate the possibility that a thing can be in more than one place at the same time. It's quantum mechanics, more than any other idea in fundamental physics, which forces us to question our intuition about how everyday objects behave. For the microscopic constituents of the universe, our everyday observations simply do not hold. In spite of its counter-intuitiveness, quantum mechanics has come to define our modern world through the technologies that it underpins. From the tiny switches crammed by the billions onto microchips to medical scanners and laser therapies, all rely upon the weirdness of quantum mechanics. Ultimately, science remains an empirical discipline. Thinking up beautiful theories is not enough on its own: every theory must stand up to the experimental observations of how nature actually works. If it doesn't, then the theory can't be correct and we must try again. If, on the other hand, our observations and predictions agree, then we're encouraged and — if the evidence is sufficient — we might even dare to claim some measure of understanding. Through our human creativity, expressed in a process of trial and improvement, incremental advances in our understanding accumulate and scientific progress is made. As the chess grandmaster Gary Kasparov puts it, our success is \"the ability to combine creativity and calculation...into a whole that is much greater than the sum of its parts.\" With each of these steps forward, science closes one more door and moves on to try one of the many, many doors that remain open. This series of TEDTalks discusses some of the toughest questions and the most profound ideas in fundamental physics. The concepts not only challenge us to think objectively and rationally, but also require us to put aside many of our everyday preconceptions and intuitions about how nature works. Be prepared to re-watch the talks and re-read the supporting material; trying to get your head around 13.8 billion years of the universe's history isn't something you can do in an afternoon! Let's begin with CalTech physicist Murray Gell-Mann for an introduction to the Standard Model of particle physics and the quest for a unified theory.\"\"\"\n",
        "# COMPLETE THIS CODE"
      ]
    },
    {
      "cell_type": "markdown",
      "id": "iJKitlSANW32",
      "metadata": {
        "id": "iJKitlSANW32"
      },
      "source": [
        "#### **Problem #4.2.3**\n",
        "\n",
        "**Independently**, research the `dir()` function and what it does to different objects. Use this function to win the plant game from Part 2!"
      ]
    },
    {
      "cell_type": "code",
      "execution_count": null,
      "id": "Q33-zYXfNW4O",
      "metadata": {
        "id": "Q33-zYXfNW4O"
      },
      "outputs": [],
      "source": [
        "# COMPLETE THIS CODE"
      ]
    },
    {
      "cell_type": "markdown",
      "id": "NxqrfDkkJmxT",
      "metadata": {
        "id": "NxqrfDkkJmxT"
      },
      "source": [
        "#### **Problem #4.2.4**\n",
        "\n",
        "**Independently,** research the `numpy` module to find a function that allows you simulate rolling a dice (picking a random number between 1 and 6)."
      ]
    },
    {
      "cell_type": "code",
      "execution_count": null,
      "id": "OMyupr31Jmxw",
      "metadata": {
        "id": "OMyupr31Jmxw"
      },
      "outputs": [],
      "source": [
        "# COMPLETE THIS CODE"
      ]
    },
    {
      "cell_type": "markdown",
      "id": "40UaWGj7I6Ui",
      "metadata": {
        "id": "40UaWGj7I6Ui"
      },
      "source": [
        "#### **Problem #4.2.5**\n",
        "\n",
        "**Independently,** research the `matplotlib` module to find a function that creates a line graph of the data provided below. For an extra challenge, label the x-axis \"Year\" and the y-axis \"Number of Qubits in IBM's Computers\". Note that the numbers for 2024 and 2025 are goals set by IBM."
      ]
    },
    {
      "cell_type": "code",
      "execution_count": null,
      "id": "8e5UZk0EI6U9",
      "metadata": {
        "id": "8e5UZk0EI6U9"
      },
      "outputs": [],
      "source": [
        "years = [2019,2020,2021,2022,2023,2024,2025]\n",
        "num_qubits = [27,65,127,433,1121,1386,4158]\n",
        "# COMPLETE THIS CODE"
      ]
    },
    {
      "cell_type": "markdown",
      "id": "5nImg2rAJ_xe",
      "metadata": {
        "id": "5nImg2rAJ_xe"
      },
      "source": [
        "#### **Problem #4.2.6**\n",
        "\n",
        "**Independently,** research the `numpy` library and `pyplot` sub-module of the `matplotlib` library and use its objects, methods, and functions to plot the equation below on a graph whose x-axis ranges from 0 to 42 and whose y-axis ranges from -6 to 6. $$y=5cos(3x)$$"
      ]
    },
    {
      "cell_type": "code",
      "execution_count": null,
      "id": "Tpq46xX2J_xw",
      "metadata": {
        "id": "Tpq46xX2J_xw"
      },
      "outputs": [],
      "source": [
        "# COMPLETE THIS CODE"
      ]
    },
    {
      "cell_type": "markdown",
      "id": "upPIf6_Drv8S",
      "metadata": {
        "id": "upPIf6_Drv8S"
      },
      "source": [
        "<a name=\"p5\"></a>\n",
        "\n",
        "---\n",
        "## **Part 5: The `print` Function [OPTIONAL]**\n",
        "---\n",
        "\n",
        "In this part, we will explore how to use functions with the very useful built-in `print` function."
      ]
    },
    {
      "cell_type": "markdown",
      "id": "NRqziKbrPR8P",
      "metadata": {
        "id": "NRqziKbrPR8P"
      },
      "source": [
        "#### **Problem #5.1**\n",
        "\n",
        "**Together**, let's run the code below to print the text `\"Hello Quantum World!\"`."
      ]
    },
    {
      "cell_type": "code",
      "execution_count": null,
      "id": "Ffht71IHPaXm",
      "metadata": {
        "colab": {
          "base_uri": "https://localhost:8080/"
        },
        "id": "Ffht71IHPaXm",
        "outputId": "6ccff93f-fc46-42da-b263-68a2073f074a"
      },
      "outputs": [
        {
          "name": "stdout",
          "output_type": "stream",
          "text": [
            "Hello Quantum World!\n"
          ]
        }
      ],
      "source": [
        "print(\"Hello Quantum World!\")"
      ]
    },
    {
      "cell_type": "markdown",
      "id": "ic87Mb_BPjnd",
      "metadata": {
        "id": "ic87Mb_BPjnd"
      },
      "source": [
        "#### **Problem #5.2**\n",
        "\n",
        "**Together**, let's print the text `\"Hello Quantum World!\"` and `\"Nice to meet you and not meet you\"` using two separate print statements."
      ]
    },
    {
      "cell_type": "code",
      "execution_count": null,
      "id": "lmZncfl_PpwE",
      "metadata": {
        "id": "lmZncfl_PpwE"
      },
      "outputs": [],
      "source": [
        "print(\"# COMPLETE THIS CODE )\n",
        "print(\"# COMPLETE THIS CODE )"
      ]
    },
    {
      "cell_type": "markdown",
      "id": "5iVci0CvP761",
      "metadata": {
        "id": "5iVci0CvP761"
      },
      "source": [
        "#### **Problem #5.3**\n",
        "\n",
        "**Independently**, complete the code by printing your age."
      ]
    },
    {
      "cell_type": "code",
      "execution_count": null,
      "id": "RgSCfnZGP762",
      "metadata": {
        "id": "RgSCfnZGP762"
      },
      "outputs": [],
      "source": [
        "print(\"My age is: # COMPLETE THIS CODE"
      ]
    },
    {
      "cell_type": "markdown",
      "id": "YtxEjg3VQYu3",
      "metadata": {
        "id": "YtxEjg3VQYu3"
      },
      "source": [
        "#### **Problem #5.4**\n",
        "\n",
        "**Independently**, Complete the code by printing your age on the next line."
      ]
    },
    {
      "cell_type": "code",
      "execution_count": null,
      "id": "3G6zysWQQYvD",
      "metadata": {
        "id": "3G6zysWQQYvD"
      },
      "outputs": [],
      "source": [
        "print(\"My age is:\")\n",
        "# COMPLETE THIS CODE"
      ]
    },
    {
      "cell_type": "markdown",
      "id": "y2y-I1FlQtyG",
      "metadata": {
        "id": "y2y-I1FlQtyG"
      },
      "source": [
        "#### **Problem #5.5**\n",
        "\n",
        "Write code to print your favorite animal."
      ]
    },
    {
      "cell_type": "code",
      "execution_count": null,
      "id": "6Mnuov5fQtyg",
      "metadata": {
        "id": "6Mnuov5fQtyg"
      },
      "outputs": [],
      "source": []
    },
    {
      "cell_type": "markdown",
      "id": "7dzC09dLlEhm",
      "metadata": {
        "id": "7dzC09dLlEhm"
      },
      "source": [
        "#End of notebook\n",
        "---\n",
        "© 2023 The Coding School, All rights reserved"
      ]
    }
  ],
  "metadata": {
    "colab": {
      "include_colab_link": true,
      "provenance": []
    },
    "kernelspec": {
      "display_name": "Python 3 (ipykernel)",
      "language": "python",
      "name": "python3"
    },
    "language_info": {
      "codemirror_mode": {
        "name": "ipython",
        "version": 3
      },
      "file_extension": ".py",
      "mimetype": "text/x-python",
      "name": "python",
      "nbconvert_exporter": "python",
      "pygments_lexer": "ipython3",
      "version": "3.11.5"
    }
  },
  "nbformat": 4,
  "nbformat_minor": 5
}
